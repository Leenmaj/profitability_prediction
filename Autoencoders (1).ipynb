{
 "cells": [
  {
   "cell_type": "markdown",
   "metadata": {},
   "source": [
    "# Autoencoders"
   ]
  },
  {
   "cell_type": "markdown",
   "metadata": {},
   "source": [
    "# 2 types of autoencoders to try"
   ]
  },
  {
   "cell_type": "markdown",
   "metadata": {},
   "source": [
    "1. Vanilla (one layer) autoencoders \n",
    "2. Multilayer autoencoder\n",
    "\n",
    "**all with softmax to classify (all gave same results 50% f-score)\n",
    "without smote just standardised the dataset using StandardScaler fitting it only on the training data to prevent data leakage and then applying the same transformation to the validation and test set\n",
    "\n",
    "SMOTE gave a slightly better result 52% (f-score)\n",
    "**The code with smote repeats the same preprocessing technique as before with the scaling^^ so to run that section you would need to run the import libraries then the cell below it then the code in the smote section no need to runn all code since it will split "
   ]
  },
  {
   "cell_type": "markdown",
   "metadata": {},
   "source": [
    "## Import the libraries"
   ]
  },
  {
   "cell_type": "code",
   "execution_count": 96,
   "metadata": {},
   "outputs": [],
   "source": [
    "import keras\n",
    "import numpy as np\n",
    "import matplotlib.pyplot as plt\n",
    "%matplotlib inline\n",
    "from keras.optimizers import Adam\n",
    "from keras.models import Model\n",
    "from keras.layers import Input, add\n",
    "from keras.layers.core import Dense, Dropout, Activation, Flatten, Reshape\n",
    "from keras.models import Sequential\n",
    "from sklearn.preprocessing import StandardScaler"
   ]
  },
  {
   "cell_type": "markdown",
   "metadata": {},
   "source": [
    "## Load the data"
   ]
  },
  {
   "cell_type": "markdown",
   "metadata": {},
   "source": [
    "We don't need the labels as the autoencoders are unsupervised network"
   ]
  },
  {
   "cell_type": "markdown",
   "metadata": {},
   "source": [
    "## Preprocess"
   ]
  },
  {
   "cell_type": "code",
   "execution_count": 97,
   "metadata": {},
   "outputs": [
    {
     "name": "stdout",
     "output_type": "stream",
     "text": [
      "Train: 3972, Validation: 1324, Test: 1324\n"
     ]
    }
   ],
   "source": [
    "import pandas as pd\n",
    "from sklearn.model_selection import train_test_split\n",
    "\n",
    "data = r'C:\\Users\\l_alm\\resnet1d-master\\content\\customerTargeting.csv'\n",
    "df = pd.read_csv(data)\n",
    "X = df.drop(columns=[\"target\"])\n",
    "y=df[\"target\"]\n",
    "\n",
    "# 80% (train + validation) and 20% (test)\n",
    "X_train_val, X_test, y_train_val, y_test = train_test_split(X, y, test_size=0.2, random_state=42)\n",
    "\n",
    "# 60% (train) and 20% (validation) from the 80% data\n",
    "X_train, X_val, y_train, y_val = train_test_split(X_train_val, y_train_val, test_size=0.25, random_state=42)\n",
    "\n",
    "\n",
    "#the final sizes\n",
    "print(f\"Train: {len(X_train)}, Validation: {len(X_val)}, Test: {len(X_test)}\")\n",
    "\n",
    "\n"
   ]
  },
  {
   "cell_type": "markdown",
   "metadata": {},
   "source": [
    "# If you're going to run SMOTE section please dont run this cell below"
   ]
  },
  {
   "cell_type": "code",
   "execution_count": null,
   "metadata": {},
   "outputs": [],
   "source": [
    "scaler = StandardScaler()\n",
    "scaler.fit(X_train)  # Fit only on training data\n",
    "\n",
    "X_train = scaler.transform(X_train)\n",
    "X_val = scaler.transform(X_val)  # Apply same transformation\n",
    "X_test = scaler.transform(X_test)  # Apply same transformation\n"
   ]
  },
  {
   "cell_type": "markdown",
   "metadata": {},
   "source": [
    "# **Vanilla Autoencoder**"
   ]
  },
  {
   "cell_type": "markdown",
   "metadata": {},
   "source": [
    "### Create the network"
   ]
  },
  {
   "cell_type": "markdown",
   "metadata": {},
   "source": [
    "The first network is the most simple autoencoder. It has three layers Input - encoder - decoder"
   ]
  },
  {
   "cell_type": "code",
   "execution_count": 11,
   "metadata": {},
   "outputs": [],
   "source": [
    "input_size = 70\n",
    "hidden_size = 1000\n",
    "bottleneck_size = 1000\n",
    "output_size = 70"
   ]
  },
  {
   "cell_type": "code",
   "execution_count": 16,
   "metadata": {},
   "outputs": [],
   "source": [
    "\n",
    "\n",
    "input_layer = Input(shape=(input_size,))\n",
    "\n",
    "encoder = Dense(hidden_size, activation=\"relu\")(input_layer)\n",
    "\n",
    "\n",
    "bottleneck = Dense(bottleneck_size, activation=\"relu\")(encoder) \n",
    "\n",
    "\n",
    "decoder = Dense(hidden_size, activation=\"relu\")(bottleneck)\n",
    "\n",
    "output_layer = Dense(input_size, activation=\"sigmoid\")(decoder)  \n",
    "\n",
    "autoencoder = Model(inputs=input_layer, outputs=output_layer)\n",
    "autoencoder.compile(optimizer=Adam(learning_rate=1e-3), loss='mse')"
   ]
  },
  {
   "cell_type": "markdown",
   "metadata": {},
   "source": [
    "### Train"
   ]
  },
  {
   "cell_type": "code",
   "execution_count": 17,
   "metadata": {},
   "outputs": [
    {
     "name": "stdout",
     "output_type": "stream",
     "text": [
      "Epoch 1/200\n",
      "32/32 [==============================] - 1s 27ms/step - loss: 0.7538 - val_loss: 0.6681\n",
      "Epoch 2/200\n",
      "32/32 [==============================] - 1s 21ms/step - loss: 0.6419 - val_loss: 0.6116\n",
      "Epoch 3/200\n",
      "32/32 [==============================] - 1s 23ms/step - loss: 0.5995 - val_loss: 0.5922\n",
      "Epoch 4/200\n",
      "32/32 [==============================] - 1s 22ms/step - loss: 0.5887 - val_loss: 0.5874\n",
      "Epoch 5/200\n",
      "32/32 [==============================] - 1s 22ms/step - loss: 0.5856 - val_loss: 0.5838\n",
      "Epoch 6/200\n",
      "32/32 [==============================] - 1s 21ms/step - loss: 0.5826 - val_loss: 0.5833\n",
      "Epoch 7/200\n",
      "32/32 [==============================] - 1s 21ms/step - loss: 0.5820 - val_loss: 0.5803\n",
      "Epoch 8/200\n",
      "32/32 [==============================] - 1s 21ms/step - loss: 0.5796 - val_loss: 0.5828\n",
      "Epoch 9/200\n",
      "32/32 [==============================] - 1s 21ms/step - loss: 0.5799 - val_loss: 0.5795\n",
      "Epoch 10/200\n",
      "32/32 [==============================] - 1s 22ms/step - loss: 0.5787 - val_loss: 0.5775\n",
      "Epoch 11/200\n",
      "32/32 [==============================] - 1s 24ms/step - loss: 0.5775 - val_loss: 0.5776\n",
      "Epoch 12/200\n",
      "32/32 [==============================] - 1s 27ms/step - loss: 0.5774 - val_loss: 0.5780\n"
     ]
    }
   ],
   "source": [
    "from keras.callbacks import EarlyStopping\n",
    "\n",
    "early_stopping = EarlyStopping(monitor='val_loss', patience=2, restore_best_weights=True)\n",
    "history = autoencoder.fit(X_train, X_train, epochs=200, batch_size=128, validation_data=(X_val, X_val), shuffle=True, callbacks=[early_stopping])"
   ]
  },
  {
   "cell_type": "markdown",
   "metadata": {},
   "source": [
    "### Predict on the test set"
   ]
  },
  {
   "cell_type": "code",
   "execution_count": 18,
   "metadata": {},
   "outputs": [
    {
     "name": "stdout",
     "output_type": "stream",
     "text": [
      "42/42 [==============================] - 0s 6ms/step\n"
     ]
    }
   ],
   "source": [
    "decoded = autoencoder.predict(X_test)"
   ]
  },
  {
   "cell_type": "markdown",
   "metadata": {},
   "source": [
    "### Plot"
   ]
  },
  {
   "cell_type": "markdown",
   "metadata": {},
   "source": [
    "### Plot the losses"
   ]
  },
  {
   "cell_type": "code",
   "execution_count": 19,
   "metadata": {},
   "outputs": [
    {
     "name": "stdout",
     "output_type": "stream",
     "text": [
      "dict_keys(['loss', 'val_loss'])\n"
     ]
    },
    {
     "data": {
      "image/png": "[encoded data removed]",
      "text/plain": [
       "<Figure size 640x480 with 1 Axes>"
      ]
     },
     "metadata": {},
     "output_type": "display_data"
    }
   ],
   "source": [
    "print(history.history.keys())\n",
    "\n",
    "plt.plot(history.history['loss'])\n",
    "plt.plot(history.history['val_loss'])\n",
    "plt.title('model loss')\n",
    "plt.ylabel('loss')\n",
    "plt.xlabel('epoch')\n",
    "plt.legend(['train', 'validation'], loc='upper right')\n",
    "plt.show()"
   ]
  },
  {
   "cell_type": "code",
   "execution_count": 20,
   "metadata": {},
   "outputs": [],
   "source": [
    "from keras.models import Model\n",
    "\n",
    "#extracting encoder part from trained autoencoder\n",
    "encoder_model = Model(inputs=autoencoder.input, outputs=autoencoder.get_layer(index=2).output)  #bottleneck layer\n"
   ]
  },
  {
   "cell_type": "code",
   "execution_count": 25,
   "metadata": {},
   "outputs": [],
   "source": [
    "from keras.models import Sequential\n",
    "from keras.layers import Dense\n",
    "from keras.optimizers import Adam\n",
    "\n",
    "#defining a classifier using the encoded features\n",
    "classifier = Sequential([\n",
    "    Dense(3, activation=\"softmax\")  #output layer (3 classes)\n",
    "])\n",
    "\n",
    "# Compile the classifier\n",
    "classifier.compile(optimizer=Adam(learning_rate=1e-3), loss='sparse_categorical_crossentropy')\n"
   ]
  },
  {
   "cell_type": "code",
   "execution_count": 29,
   "metadata": {},
   "outputs": [
    {
     "name": "stdout",
     "output_type": "stream",
     "text": [
      "Epoch 1/200\n",
      "32/32 [==============================] - 0s 4ms/step - loss: 0.9074 - val_loss: 0.9397\n",
      "Epoch 2/200\n",
      "32/32 [==============================] - 0s 2ms/step - loss: 0.9066 - val_loss: 0.9411\n",
      "Epoch 3/200\n",
      "32/32 [==============================] - 0s 3ms/step - loss: 0.9116 - val_loss: 0.9430\n",
      "Epoch 4/200\n",
      "32/32 [==============================] - 0s 3ms/step - loss: 0.9073 - val_loss: 0.9424\n",
      "Epoch 5/200\n",
      "32/32 [==============================] - 0s 3ms/step - loss: 0.9070 - val_loss: 0.9408\n",
      "Epoch 6/200\n",
      "32/32 [==============================] - 0s 3ms/step - loss: 0.9063 - val_loss: 0.9410\n",
      "Epoch 7/200\n",
      "32/32 [==============================] - 0s 3ms/step - loss: 0.9066 - val_loss: 0.9421\n",
      "Epoch 8/200\n",
      "32/32 [==============================] - 0s 3ms/step - loss: 0.9073 - val_loss: 0.9429\n",
      "Epoch 9/200\n",
      "32/32 [==============================] - 0s 3ms/step - loss: 0.9082 - val_loss: 0.9410\n",
      "Epoch 10/200\n",
      "32/32 [==============================] - 0s 4ms/step - loss: 0.9065 - val_loss: 0.9407\n",
      "Epoch 11/200\n",
      "32/32 [==============================] - 0s 4ms/step - loss: 0.9076 - val_loss: 0.9405\n",
      "Epoch 12/200\n",
      "32/32 [==============================] - 0s 3ms/step - loss: 0.9060 - val_loss: 0.9409\n",
      "Epoch 13/200\n",
      "32/32 [==============================] - 0s 3ms/step - loss: 0.9066 - val_loss: 0.9415\n",
      "Epoch 14/200\n",
      "32/32 [==============================] - 0s 3ms/step - loss: 0.9064 - val_loss: 0.9400\n",
      "Epoch 15/200\n",
      "32/32 [==============================] - 0s 3ms/step - loss: 0.9067 - val_loss: 0.9404\n",
      "Epoch 16/200\n",
      "32/32 [==============================] - 0s 3ms/step - loss: 0.9066 - val_loss: 0.9410\n",
      "Epoch 17/200\n",
      "32/32 [==============================] - 0s 3ms/step - loss: 0.9069 - val_loss: 0.9422\n",
      "Epoch 18/200\n",
      "32/32 [==============================] - 0s 3ms/step - loss: 0.9067 - val_loss: 0.9413\n",
      "Epoch 19/200\n",
      "32/32 [==============================] - 0s 2ms/step - loss: 0.9068 - val_loss: 0.9415\n",
      "Epoch 20/200\n",
      "32/32 [==============================] - 0s 2ms/step - loss: 0.9066 - val_loss: 0.9401\n",
      "Epoch 21/200\n",
      "32/32 [==============================] - 0s 3ms/step - loss: 0.9066 - val_loss: 0.9404\n",
      "Epoch 22/200\n",
      "32/32 [==============================] - 0s 3ms/step - loss: 0.9061 - val_loss: 0.9397\n",
      "Epoch 23/200\n",
      "32/32 [==============================] - 0s 3ms/step - loss: 0.9074 - val_loss: 0.9383\n",
      "Epoch 24/200\n",
      "32/32 [==============================] - 0s 3ms/step - loss: 0.9077 - val_loss: 0.9392\n",
      "Epoch 25/200\n",
      "32/32 [==============================] - 0s 3ms/step - loss: 0.9075 - val_loss: 0.9389\n",
      "Epoch 26/200\n",
      "32/32 [==============================] - 0s 3ms/step - loss: 0.9066 - val_loss: 0.9409\n",
      "Epoch 27/200\n",
      "32/32 [==============================] - 0s 3ms/step - loss: 0.9063 - val_loss: 0.9410\n",
      "Epoch 28/200\n",
      "32/32 [==============================] - 0s 3ms/step - loss: 0.9074 - val_loss: 0.9406\n",
      "Epoch 29/200\n",
      "32/32 [==============================] - 0s 3ms/step - loss: 0.9064 - val_loss: 0.9415\n",
      "Epoch 30/200\n",
      "32/32 [==============================] - 0s 3ms/step - loss: 0.9066 - val_loss: 0.9408\n",
      "Epoch 31/200\n",
      "32/32 [==============================] - 0s 3ms/step - loss: 0.9084 - val_loss: 0.9390\n",
      "Epoch 32/200\n",
      "32/32 [==============================] - 0s 3ms/step - loss: 0.9064 - val_loss: 0.9405\n",
      "Epoch 33/200\n",
      "32/32 [==============================] - 0s 3ms/step - loss: 0.9064 - val_loss: 0.9404\n",
      "Epoch 34/200\n",
      "32/32 [==============================] - 0s 3ms/step - loss: 0.9061 - val_loss: 0.9405\n",
      "Epoch 35/200\n",
      "32/32 [==============================] - 0s 3ms/step - loss: 0.9069 - val_loss: 0.9411\n",
      "Epoch 36/200\n",
      "32/32 [==============================] - 0s 3ms/step - loss: 0.9070 - val_loss: 0.9420\n",
      "Epoch 37/200\n",
      "32/32 [==============================] - 0s 3ms/step - loss: 0.9066 - val_loss: 0.9408\n",
      "Epoch 38/200\n",
      "32/32 [==============================] - 0s 3ms/step - loss: 0.9078 - val_loss: 0.9409\n",
      "Epoch 39/200\n",
      "32/32 [==============================] - 0s 3ms/step - loss: 0.9064 - val_loss: 0.9419\n",
      "Epoch 40/200\n",
      "32/32 [==============================] - 0s 3ms/step - loss: 0.9074 - val_loss: 0.9420\n",
      "Epoch 41/200\n",
      "32/32 [==============================] - 0s 3ms/step - loss: 0.9075 - val_loss: 0.9415\n",
      "Epoch 42/200\n",
      "32/32 [==============================] - 0s 3ms/step - loss: 0.9063 - val_loss: 0.9417\n",
      "Epoch 43/200\n",
      "32/32 [==============================] - 0s 5ms/step - loss: 0.9064 - val_loss: 0.9401\n",
      "Epoch 44/200\n",
      "32/32 [==============================] - 0s 3ms/step - loss: 0.9079 - val_loss: 0.9407\n",
      "Epoch 45/200\n",
      "32/32 [==============================] - 0s 3ms/step - loss: 0.9081 - val_loss: 0.9413\n",
      "Epoch 46/200\n",
      "32/32 [==============================] - 0s 3ms/step - loss: 0.9077 - val_loss: 0.9419\n",
      "Epoch 47/200\n",
      "32/32 [==============================] - 0s 3ms/step - loss: 0.9071 - val_loss: 0.9412\n",
      "Epoch 48/200\n",
      "32/32 [==============================] - 0s 3ms/step - loss: 0.9065 - val_loss: 0.9434\n",
      "Epoch 49/200\n",
      "32/32 [==============================] - 0s 3ms/step - loss: 0.9067 - val_loss: 0.9418\n",
      "Epoch 50/200\n",
      "32/32 [==============================] - 0s 3ms/step - loss: 0.9076 - val_loss: 0.9424\n",
      "Epoch 51/200\n",
      "32/32 [==============================] - 0s 4ms/step - loss: 0.9074 - val_loss: 0.9407\n",
      "Epoch 52/200\n",
      "32/32 [==============================] - 0s 3ms/step - loss: 0.9066 - val_loss: 0.9416\n",
      "Epoch 53/200\n",
      "32/32 [==============================] - 0s 3ms/step - loss: 0.9081 - val_loss: 0.9411\n",
      "Epoch 54/200\n",
      "32/32 [==============================] - 0s 3ms/step - loss: 0.9065 - val_loss: 0.9420\n",
      "Epoch 55/200\n",
      "32/32 [==============================] - 0s 3ms/step - loss: 0.9067 - val_loss: 0.9412\n",
      "Epoch 56/200\n",
      "32/32 [==============================] - 0s 3ms/step - loss: 0.9058 - val_loss: 0.9417\n",
      "Epoch 57/200\n",
      "32/32 [==============================] - 0s 3ms/step - loss: 0.9065 - val_loss: 0.9417\n",
      "Epoch 58/200\n",
      "32/32 [==============================] - 0s 3ms/step - loss: 0.9077 - val_loss: 0.9429\n",
      "Epoch 59/200\n",
      "32/32 [==============================] - 0s 3ms/step - loss: 0.9062 - val_loss: 0.9409\n",
      "Epoch 60/200\n",
      "32/32 [==============================] - 0s 3ms/step - loss: 0.9065 - val_loss: 0.9417\n",
      "Epoch 61/200\n",
      "32/32 [==============================] - 0s 3ms/step - loss: 0.9067 - val_loss: 0.9436\n",
      "Epoch 62/200\n",
      "32/32 [==============================] - 0s 3ms/step - loss: 0.9066 - val_loss: 0.9425\n",
      "Epoch 63/200\n",
      "32/32 [==============================] - 0s 3ms/step - loss: 0.9068 - val_loss: 0.9417\n",
      "Epoch 64/200\n",
      "32/32 [==============================] - 0s 3ms/step - loss: 0.9089 - val_loss: 0.9431\n",
      "Epoch 65/200\n",
      "32/32 [==============================] - 0s 3ms/step - loss: 0.9058 - val_loss: 0.9411\n",
      "Epoch 66/200\n",
      "32/32 [==============================] - 0s 3ms/step - loss: 0.9075 - val_loss: 0.9438\n",
      "Epoch 67/200\n",
      "32/32 [==============================] - 0s 3ms/step - loss: 0.9081 - val_loss: 0.9408\n",
      "Epoch 68/200\n",
      "32/32 [==============================] - 0s 3ms/step - loss: 0.9073 - val_loss: 0.9414\n",
      "Epoch 69/200\n",
      "32/32 [==============================] - 0s 3ms/step - loss: 0.9067 - val_loss: 0.9425\n",
      "Epoch 70/200\n",
      "32/32 [==============================] - 0s 3ms/step - loss: 0.9060 - val_loss: 0.9411\n",
      "Epoch 71/200\n",
      "32/32 [==============================] - 0s 3ms/step - loss: 0.9061 - val_loss: 0.9407\n",
      "Epoch 72/200\n",
      "32/32 [==============================] - 0s 3ms/step - loss: 0.9065 - val_loss: 0.9424\n",
      "Epoch 73/200\n",
      "32/32 [==============================] - 0s 3ms/step - loss: 0.9080 - val_loss: 0.9436\n",
      "Epoch 74/200\n",
      "32/32 [==============================] - 0s 3ms/step - loss: 0.9087 - val_loss: 0.9426\n",
      "Epoch 75/200\n",
      "32/32 [==============================] - 0s 3ms/step - loss: 0.9067 - val_loss: 0.9417\n",
      "Epoch 76/200\n",
      "32/32 [==============================] - 0s 3ms/step - loss: 0.9071 - val_loss: 0.9438\n",
      "Epoch 77/200\n",
      "32/32 [==============================] - 0s 3ms/step - loss: 0.9072 - val_loss: 0.9420\n",
      "Epoch 78/200\n",
      "32/32 [==============================] - 0s 3ms/step - loss: 0.9073 - val_loss: 0.9413\n",
      "Epoch 79/200\n",
      "32/32 [==============================] - 0s 3ms/step - loss: 0.9066 - val_loss: 0.9428\n",
      "Epoch 80/200\n",
      "32/32 [==============================] - 0s 3ms/step - loss: 0.9059 - val_loss: 0.9408\n",
      "Epoch 81/200\n",
      "32/32 [==============================] - 0s 3ms/step - loss: 0.9063 - val_loss: 0.9413\n",
      "Epoch 82/200\n",
      "32/32 [==============================] - 0s 3ms/step - loss: 0.9069 - val_loss: 0.9412\n",
      "Epoch 83/200\n",
      "32/32 [==============================] - 0s 3ms/step - loss: 0.9068 - val_loss: 0.9422\n",
      "Epoch 84/200\n",
      "32/32 [==============================] - 0s 3ms/step - loss: 0.9068 - val_loss: 0.9414\n",
      "Epoch 85/200\n",
      "32/32 [==============================] - 0s 3ms/step - loss: 0.9064 - val_loss: 0.9415\n",
      "Epoch 86/200\n",
      "32/32 [==============================] - 0s 3ms/step - loss: 0.9066 - val_loss: 0.9401\n",
      "Epoch 87/200\n",
      "32/32 [==============================] - 0s 3ms/step - loss: 0.9062 - val_loss: 0.9404\n",
      "Epoch 88/200\n",
      "32/32 [==============================] - 0s 3ms/step - loss: 0.9064 - val_loss: 0.9409\n",
      "Epoch 89/200\n",
      "32/32 [==============================] - 0s 3ms/step - loss: 0.9112 - val_loss: 0.9401\n",
      "Epoch 90/200\n",
      "32/32 [==============================] - 0s 3ms/step - loss: 0.9063 - val_loss: 0.9418\n",
      "Epoch 91/200\n",
      "32/32 [==============================] - 0s 3ms/step - loss: 0.9065 - val_loss: 0.9406\n",
      "Epoch 92/200\n",
      "32/32 [==============================] - 0s 3ms/step - loss: 0.9067 - val_loss: 0.9427\n",
      "Epoch 93/200\n",
      "32/32 [==============================] - 0s 3ms/step - loss: 0.9080 - val_loss: 0.9421\n",
      "Epoch 94/200\n",
      "32/32 [==============================] - 0s 3ms/step - loss: 0.9061 - val_loss: 0.9417\n",
      "Epoch 95/200\n",
      "32/32 [==============================] - 0s 3ms/step - loss: 0.9064 - val_loss: 0.9417\n",
      "Epoch 96/200\n",
      "32/32 [==============================] - 0s 3ms/step - loss: 0.9073 - val_loss: 0.9422\n",
      "Epoch 97/200\n",
      "32/32 [==============================] - 0s 4ms/step - loss: 0.9063 - val_loss: 0.9424\n",
      "Epoch 98/200\n",
      "32/32 [==============================] - 0s 3ms/step - loss: 0.9074 - val_loss: 0.9432\n",
      "Epoch 99/200\n",
      "32/32 [==============================] - 0s 3ms/step - loss: 0.9065 - val_loss: 0.9429\n",
      "Epoch 100/200\n",
      "32/32 [==============================] - 0s 3ms/step - loss: 0.9062 - val_loss: 0.9434\n",
      "Epoch 101/200\n",
      "32/32 [==============================] - 0s 2ms/step - loss: 0.9062 - val_loss: 0.9410\n",
      "Epoch 102/200\n",
      "32/32 [==============================] - 0s 3ms/step - loss: 0.9082 - val_loss: 0.9424\n",
      "Epoch 103/200\n",
      "32/32 [==============================] - 0s 3ms/step - loss: 0.9066 - val_loss: 0.9415\n",
      "Epoch 104/200\n",
      "32/32 [==============================] - 0s 3ms/step - loss: 0.9068 - val_loss: 0.9430\n",
      "Epoch 105/200\n",
      "32/32 [==============================] - 0s 3ms/step - loss: 0.9065 - val_loss: 0.9424\n",
      "Epoch 106/200\n",
      "32/32 [==============================] - 0s 3ms/step - loss: 0.9074 - val_loss: 0.9433\n",
      "Epoch 107/200\n",
      "32/32 [==============================] - 0s 3ms/step - loss: 0.9100 - val_loss: 0.9433\n",
      "Epoch 108/200\n",
      "32/32 [==============================] - 0s 2ms/step - loss: 0.9074 - val_loss: 0.9434\n",
      "Epoch 109/200\n",
      "32/32 [==============================] - 0s 6ms/step - loss: 0.9068 - val_loss: 0.9432\n",
      "Epoch 110/200\n",
      "32/32 [==============================] - 0s 3ms/step - loss: 0.9066 - val_loss: 0.9435\n",
      "Epoch 111/200\n",
      "32/32 [==============================] - 0s 2ms/step - loss: 0.9068 - val_loss: 0.9426\n",
      "Epoch 112/200\n",
      "32/32 [==============================] - 0s 3ms/step - loss: 0.9069 - val_loss: 0.9432\n",
      "Epoch 113/200\n",
      "32/32 [==============================] - 0s 3ms/step - loss: 0.9065 - val_loss: 0.9411\n",
      "Epoch 114/200\n",
      "32/32 [==============================] - 0s 3ms/step - loss: 0.9068 - val_loss: 0.9414\n",
      "Epoch 115/200\n",
      "32/32 [==============================] - 0s 3ms/step - loss: 0.9073 - val_loss: 0.9421\n",
      "Epoch 116/200\n",
      "32/32 [==============================] - 0s 3ms/step - loss: 0.9062 - val_loss: 0.9415\n",
      "Epoch 117/200\n",
      "32/32 [==============================] - 0s 3ms/step - loss: 0.9064 - val_loss: 0.9420\n",
      "Epoch 118/200\n",
      "32/32 [==============================] - 0s 3ms/step - loss: 0.9064 - val_loss: 0.9411\n",
      "Epoch 119/200\n",
      "32/32 [==============================] - 0s 3ms/step - loss: 0.9085 - val_loss: 0.9418\n",
      "Epoch 120/200\n",
      "32/32 [==============================] - 0s 3ms/step - loss: 0.9066 - val_loss: 0.9429\n",
      "Epoch 121/200\n",
      "32/32 [==============================] - 0s 3ms/step - loss: 0.9067 - val_loss: 0.9419\n",
      "Epoch 122/200\n",
      "32/32 [==============================] - 0s 2ms/step - loss: 0.9078 - val_loss: 0.9423\n",
      "Epoch 123/200\n",
      "32/32 [==============================] - 0s 3ms/step - loss: 0.9079 - val_loss: 0.9412\n",
      "Epoch 124/200\n",
      "32/32 [==============================] - 0s 3ms/step - loss: 0.9076 - val_loss: 0.9419\n",
      "Epoch 125/200\n",
      "32/32 [==============================] - 0s 3ms/step - loss: 0.9074 - val_loss: 0.9432\n",
      "Epoch 126/200\n",
      "32/32 [==============================] - 0s 3ms/step - loss: 0.9066 - val_loss: 0.9421\n",
      "Epoch 127/200\n",
      "32/32 [==============================] - 0s 3ms/step - loss: 0.9072 - val_loss: 0.9407\n",
      "Epoch 128/200\n",
      "32/32 [==============================] - 0s 3ms/step - loss: 0.9069 - val_loss: 0.9436\n",
      "Epoch 129/200\n",
      "32/32 [==============================] - 0s 3ms/step - loss: 0.9064 - val_loss: 0.9431\n",
      "Epoch 130/200\n",
      "32/32 [==============================] - 0s 2ms/step - loss: 0.9070 - val_loss: 0.9434\n",
      "Epoch 131/200\n",
      "32/32 [==============================] - 0s 3ms/step - loss: 0.9065 - val_loss: 0.9435\n",
      "Epoch 132/200\n",
      "32/32 [==============================] - 0s 3ms/step - loss: 0.9062 - val_loss: 0.9431\n",
      "Epoch 133/200\n",
      "32/32 [==============================] - 0s 3ms/step - loss: 0.9072 - val_loss: 0.9412\n",
      "Epoch 134/200\n",
      "32/32 [==============================] - 0s 3ms/step - loss: 0.9065 - val_loss: 0.9411\n",
      "Epoch 135/200\n",
      "32/32 [==============================] - 0s 3ms/step - loss: 0.9068 - val_loss: 0.9417\n",
      "Epoch 136/200\n",
      "32/32 [==============================] - 0s 3ms/step - loss: 0.9078 - val_loss: 0.9413\n",
      "Epoch 137/200\n",
      "32/32 [==============================] - 0s 3ms/step - loss: 0.9065 - val_loss: 0.9431\n",
      "Epoch 138/200\n",
      "32/32 [==============================] - 0s 3ms/step - loss: 0.9062 - val_loss: 0.9425\n",
      "Epoch 139/200\n",
      "32/32 [==============================] - 0s 2ms/step - loss: 0.9067 - val_loss: 0.9426\n",
      "Epoch 140/200\n",
      "32/32 [==============================] - 0s 3ms/step - loss: 0.9070 - val_loss: 0.9441\n",
      "Epoch 141/200\n",
      "32/32 [==============================] - 0s 3ms/step - loss: 0.9066 - val_loss: 0.9424\n",
      "Epoch 142/200\n",
      "32/32 [==============================] - 0s 3ms/step - loss: 0.9066 - val_loss: 0.9425\n",
      "Epoch 143/200\n",
      "32/32 [==============================] - 0s 3ms/step - loss: 0.9073 - val_loss: 0.9433\n",
      "Epoch 144/200\n",
      "32/32 [==============================] - 0s 2ms/step - loss: 0.9082 - val_loss: 0.9460\n",
      "Epoch 145/200\n",
      "32/32 [==============================] - 0s 3ms/step - loss: 0.9067 - val_loss: 0.9441\n",
      "Epoch 146/200\n",
      "32/32 [==============================] - 0s 3ms/step - loss: 0.9069 - val_loss: 0.9434\n",
      "Epoch 147/200\n",
      "32/32 [==============================] - 0s 2ms/step - loss: 0.9066 - val_loss: 0.9430\n",
      "Epoch 148/200\n",
      "32/32 [==============================] - 0s 3ms/step - loss: 0.9076 - val_loss: 0.9425\n",
      "Epoch 149/200\n",
      "32/32 [==============================] - 0s 3ms/step - loss: 0.9064 - val_loss: 0.9404\n",
      "Epoch 150/200\n",
      "32/32 [==============================] - 0s 3ms/step - loss: 0.9065 - val_loss: 0.9409\n",
      "Epoch 151/200\n",
      "32/32 [==============================] - 0s 3ms/step - loss: 0.9068 - val_loss: 0.9425\n",
      "Epoch 152/200\n",
      "32/32 [==============================] - 0s 2ms/step - loss: 0.9089 - val_loss: 0.9413\n",
      "Epoch 153/200\n",
      "32/32 [==============================] - 0s 3ms/step - loss: 0.9086 - val_loss: 0.9420\n",
      "Epoch 154/200\n",
      "32/32 [==============================] - 0s 3ms/step - loss: 0.9066 - val_loss: 0.9418\n",
      "Epoch 155/200\n",
      "32/32 [==============================] - 0s 3ms/step - loss: 0.9070 - val_loss: 0.9410\n",
      "Epoch 156/200\n",
      "32/32 [==============================] - 0s 3ms/step - loss: 0.9085 - val_loss: 0.9401\n",
      "Epoch 157/200\n",
      "32/32 [==============================] - 0s 3ms/step - loss: 0.9085 - val_loss: 0.9407\n",
      "Epoch 158/200\n",
      "32/32 [==============================] - 0s 3ms/step - loss: 0.9063 - val_loss: 0.9411\n",
      "Epoch 159/200\n",
      "32/32 [==============================] - 0s 3ms/step - loss: 0.9082 - val_loss: 0.9416\n",
      "Epoch 160/200\n",
      "32/32 [==============================] - 0s 3ms/step - loss: 0.9079 - val_loss: 0.9411\n",
      "Epoch 161/200\n",
      "32/32 [==============================] - 0s 3ms/step - loss: 0.9063 - val_loss: 0.9423\n",
      "Epoch 162/200\n",
      "32/32 [==============================] - 0s 3ms/step - loss: 0.9063 - val_loss: 0.9426\n",
      "Epoch 163/200\n",
      "32/32 [==============================] - 0s 3ms/step - loss: 0.9078 - val_loss: 0.9447\n",
      "Epoch 164/200\n",
      "32/32 [==============================] - 0s 3ms/step - loss: 0.9068 - val_loss: 0.9425\n",
      "Epoch 165/200\n",
      "32/32 [==============================] - 0s 3ms/step - loss: 0.9062 - val_loss: 0.9429\n",
      "Epoch 166/200\n",
      "32/32 [==============================] - 0s 3ms/step - loss: 0.9081 - val_loss: 0.9426\n",
      "Epoch 167/200\n",
      "32/32 [==============================] - 0s 3ms/step - loss: 0.9080 - val_loss: 0.9413\n",
      "Epoch 168/200\n",
      "32/32 [==============================] - 0s 3ms/step - loss: 0.9081 - val_loss: 0.9417\n",
      "Epoch 169/200\n",
      "32/32 [==============================] - 0s 3ms/step - loss: 0.9070 - val_loss: 0.9430\n",
      "Epoch 170/200\n",
      "32/32 [==============================] - 0s 3ms/step - loss: 0.9066 - val_loss: 0.9440\n",
      "Epoch 171/200\n",
      "32/32 [==============================] - 0s 3ms/step - loss: 0.9082 - val_loss: 0.9438\n",
      "Epoch 172/200\n",
      "32/32 [==============================] - 0s 3ms/step - loss: 0.9071 - val_loss: 0.9413\n",
      "Epoch 173/200\n",
      "32/32 [==============================] - 0s 3ms/step - loss: 0.9074 - val_loss: 0.9407\n",
      "Epoch 174/200\n",
      "32/32 [==============================] - 0s 3ms/step - loss: 0.9077 - val_loss: 0.9408\n",
      "Epoch 175/200\n",
      "32/32 [==============================] - 0s 3ms/step - loss: 0.9074 - val_loss: 0.9403\n",
      "Epoch 176/200\n",
      "32/32 [==============================] - 0s 3ms/step - loss: 0.9072 - val_loss: 0.9416\n",
      "Epoch 177/200\n",
      "32/32 [==============================] - 0s 3ms/step - loss: 0.9063 - val_loss: 0.9416\n",
      "Epoch 178/200\n",
      "32/32 [==============================] - 0s 3ms/step - loss: 0.9058 - val_loss: 0.9419\n",
      "Epoch 179/200\n",
      "32/32 [==============================] - 0s 3ms/step - loss: 0.9059 - val_loss: 0.9416\n",
      "Epoch 180/200\n",
      "32/32 [==============================] - 0s 3ms/step - loss: 0.9065 - val_loss: 0.9431\n",
      "Epoch 181/200\n",
      "32/32 [==============================] - 0s 2ms/step - loss: 0.9060 - val_loss: 0.9435\n",
      "Epoch 182/200\n",
      "32/32 [==============================] - 0s 3ms/step - loss: 0.9080 - val_loss: 0.9440\n",
      "Epoch 183/200\n",
      "32/32 [==============================] - 0s 3ms/step - loss: 0.9062 - val_loss: 0.9411\n",
      "Epoch 184/200\n",
      "32/32 [==============================] - 0s 3ms/step - loss: 0.9060 - val_loss: 0.9409\n",
      "Epoch 185/200\n",
      "32/32 [==============================] - 0s 3ms/step - loss: 0.9060 - val_loss: 0.9414\n",
      "Epoch 186/200\n",
      "32/32 [==============================] - 0s 3ms/step - loss: 0.9077 - val_loss: 0.9421\n",
      "Epoch 187/200\n",
      "32/32 [==============================] - 0s 3ms/step - loss: 0.9063 - val_loss: 0.9427\n",
      "Epoch 188/200\n",
      "32/32 [==============================] - 0s 3ms/step - loss: 0.9067 - val_loss: 0.9421\n",
      "Epoch 189/200\n",
      "32/32 [==============================] - 0s 3ms/step - loss: 0.9065 - val_loss: 0.9426\n",
      "Epoch 190/200\n",
      "32/32 [==============================] - 0s 3ms/step - loss: 0.9060 - val_loss: 0.9450\n",
      "Epoch 191/200\n",
      "32/32 [==============================] - 0s 2ms/step - loss: 0.9068 - val_loss: 0.9434\n",
      "Epoch 192/200\n",
      "32/32 [==============================] - 0s 3ms/step - loss: 0.9062 - val_loss: 0.9422\n",
      "Epoch 193/200\n",
      "32/32 [==============================] - 0s 3ms/step - loss: 0.9062 - val_loss: 0.9414\n",
      "Epoch 194/200\n",
      "32/32 [==============================] - 0s 3ms/step - loss: 0.9074 - val_loss: 0.9425\n",
      "Epoch 195/200\n",
      "32/32 [==============================] - 0s 3ms/step - loss: 0.9069 - val_loss: 0.9415\n",
      "Epoch 196/200\n",
      "32/32 [==============================] - 0s 2ms/step - loss: 0.9075 - val_loss: 0.9413\n",
      "Epoch 197/200\n",
      "32/32 [==============================] - 0s 3ms/step - loss: 0.9060 - val_loss: 0.9409\n",
      "Epoch 198/200\n",
      "32/32 [==============================] - 0s 6ms/step - loss: 0.9072 - val_loss: 0.9413\n",
      "Epoch 199/200\n",
      "32/32 [==============================] - 0s 3ms/step - loss: 0.9075 - val_loss: 0.9432\n",
      "Epoch 200/200\n",
      "32/32 [==============================] - 0s 3ms/step - loss: 0.9075 - val_loss: 0.9424\n"
     ]
    }
   ],
   "source": [
    "\n",
    "\n",
    "\n",
    "#compute class weights\n",
    "#class_weights = compute_class_weight(\"balanced\", classes=np.unique(y_train), y=y_train)\n",
    "#class_weights_dict = {i: class_weights[i] for i in range(len(class_weights))} improves performance in classes 0 and 2 but lowers the performance\n",
    "#print(\"class Weights:\", class_weights_dict)\n",
    "# Train classifier\n",
    "early_stopping = EarlyStopping(monitor='val_loss', patience=2, restore_best_weights=True) \n",
    "history=classifier.fit(X_train, y_train, epochs=200, batch_size=128, validation_data=(X_val, y_val), shuffle=True)\n",
    "\n"
   ]
  },
  {
   "cell_type": "code",
   "execution_count": 27,
   "metadata": {},
   "outputs": [
    {
     "name": "stdout",
     "output_type": "stream",
     "text": [
      "dict_keys(['loss', 'val_loss'])\n"
     ]
    },
    {
     "data": {
      "image/png": "[encoded data removed]",
      "text/plain": [
       "<Figure size 640x480 with 1 Axes>"
      ]
     },
     "metadata": {},
     "output_type": "display_data"
    }
   ],
   "source": [
    "print(history.history.keys())\n",
    "\n",
    "plt.plot(history.history['loss'])\n",
    "plt.plot(history.history['val_loss'])\n",
    "plt.title('model loss')\n",
    "plt.ylabel('loss')\n",
    "plt.xlabel('epoch')\n",
    "plt.legend(['train', 'validation'], loc='upper right')\n",
    "plt.show()"
   ]
  },
  {
   "cell_type": "code",
   "execution_count": 30,
   "metadata": {},
   "outputs": [
    {
     "name": "stdout",
     "output_type": "stream",
     "text": [
      "42/42 [==============================] - 0s 954us/step\n",
      "              precision    recall  f1-score   support\n",
      "\n",
      "           0     0.3871    0.0366    0.0669       328\n",
      "           1     0.5906    0.8692    0.7033       604\n",
      "           2     0.5644    0.5816    0.5729       392\n",
      "\n",
      "    accuracy                         0.5778      1324\n",
      "   macro avg     0.5140    0.4958    0.4477      1324\n",
      "weighted avg     0.5324    0.5778    0.5070      1324\n",
      "\n"
     ]
    }
   ],
   "source": [
    "from sklearn.metrics import classification_report\n",
    "\n",
    "\n",
    "y_pred_prob = classifier.predict(X_test)\n",
    "\n",
    "#converting to class labels\n",
    "y_pred = y_pred_prob.argmax(axis=1)  #getting class with highest probability\n",
    "\n",
    "print(classification_report(y_test, y_pred, digits=4))\n"
   ]
  },
  {
   "cell_type": "markdown",
   "metadata": {},
   "source": [
    "---"
   ]
  },
  {
   "cell_type": "markdown",
   "metadata": {},
   "source": [
    "# **Multilayer autoencoder**"
   ]
  },
  {
   "cell_type": "markdown",
   "metadata": {},
   "source": [
    "trying 2 layers "
   ]
  },
  {
   "cell_type": "code",
   "execution_count": 31,
   "metadata": {},
   "outputs": [],
   "source": [
    "input_size = 70\n",
    "hidden_size1= 1000\n",
    "hidden_size2= 1000\n",
    "bottleneck_size= 1000\n",
    "output_size = 70\n",
    "\n",
    "input_layer = Input(shape=(input_size,))\n",
    "encoder = Dense(hidden_size1, activation=\"relu\")(input_layer)\n",
    "encoder = Dense(hidden_size2, activation=\"relu\")(encoder)\n",
    "bottleneck = Dense(bottleneck_size, activation=\"relu\")(encoder)  \n",
    "\n",
    "\n",
    "decoder = Dense(hidden_size2, activation=\"relu\")(bottleneck)\n",
    "decoder = Dense(hidden_size1, activation=\"relu\")(decoder)\n",
    "output_layer = Dense(output_size, activation=\"sigmoid\")(decoder) \n",
    "\n",
    "autoencoder2 = Model(inputs=input_layer, outputs=output_layer)\n",
    "autoencoder2.compile(optimizer='adam', loss='mse')"
   ]
  },
  {
   "cell_type": "markdown",
   "metadata": {},
   "source": [
    "### Train the network"
   ]
  },
  {
   "cell_type": "code",
   "execution_count": 32,
   "metadata": {},
   "outputs": [
    {
     "name": "stdout",
     "output_type": "stream",
     "text": [
      "Epoch 1/200\n",
      "32/32 [==============================] - 3s 60ms/step - loss: 0.7908 - val_loss: 0.7259\n",
      "Epoch 2/200\n",
      "32/32 [==============================] - 2s 53ms/step - loss: 0.7157 - val_loss: 0.7052\n",
      "Epoch 3/200\n",
      "32/32 [==============================] - 2s 54ms/step - loss: 0.6932 - val_loss: 0.6803\n",
      "Epoch 4/200\n",
      "32/32 [==============================] - 2s 60ms/step - loss: 0.6667 - val_loss: 0.6572\n",
      "Epoch 5/200\n",
      "32/32 [==============================] - 2s 58ms/step - loss: 0.6439 - val_loss: 0.6467\n",
      "Epoch 6/200\n",
      "32/32 [==============================] - 2s 54ms/step - loss: 0.6247 - val_loss: 0.6214\n",
      "Epoch 7/200\n",
      "32/32 [==============================] - 2s 56ms/step - loss: 0.6112 - val_loss: 0.6065\n",
      "Epoch 8/200\n",
      "32/32 [==============================] - 2s 54ms/step - loss: 0.6006 - val_loss: 0.6020\n",
      "Epoch 9/200\n",
      "32/32 [==============================] - 2s 55ms/step - loss: 0.5966 - val_loss: 0.5957\n",
      "Epoch 10/200\n",
      "32/32 [==============================] - 2s 58ms/step - loss: 0.5918 - val_loss: 0.5955\n",
      "Epoch 11/200\n",
      "32/32 [==============================] - 2s 54ms/step - loss: 0.5911 - val_loss: 0.5960\n",
      "Epoch 12/200\n",
      "32/32 [==============================] - 2s 55ms/step - loss: 0.5905 - val_loss: 0.5940\n",
      "Epoch 13/200\n",
      "32/32 [==============================] - 2s 55ms/step - loss: 0.5897 - val_loss: 0.5940\n",
      "Epoch 14/200\n",
      "32/32 [==============================] - 2s 55ms/step - loss: 0.5898 - val_loss: 0.5908\n",
      "Epoch 15/200\n",
      "32/32 [==============================] - 2s 55ms/step - loss: 0.5864 - val_loss: 0.5898\n",
      "Epoch 16/200\n",
      "32/32 [==============================] - 2s 57ms/step - loss: 0.5862 - val_loss: 0.5900\n",
      "Epoch 17/200\n",
      "32/32 [==============================] - 2s 53ms/step - loss: 0.5852 - val_loss: 0.5879\n",
      "Epoch 18/200\n",
      "32/32 [==============================] - 2s 56ms/step - loss: 0.5840 - val_loss: 0.5865\n",
      "Epoch 19/200\n",
      "32/32 [==============================] - 2s 56ms/step - loss: 0.5830 - val_loss: 0.5852\n",
      "Epoch 20/200\n",
      "32/32 [==============================] - 2s 60ms/step - loss: 0.5821 - val_loss: 0.5856\n",
      "Epoch 21/200\n",
      "32/32 [==============================] - 2s 64ms/step - loss: 0.5817 - val_loss: 0.5852\n"
     ]
    }
   ],
   "source": [
    "early_stopping = EarlyStopping(monitor='val_loss', patience=2, restore_best_weights=True)\n",
    "history = autoencoder2.fit(X_train, X_train, batch_size=128, epochs=200, verbose=1, validation_data=(X_val, X_val), shuffle=True,callbacks=[early_stopping])"
   ]
  },
  {
   "cell_type": "markdown",
   "metadata": {},
   "source": [
    "### Predict on the test set"
   ]
  },
  {
   "cell_type": "code",
   "execution_count": 33,
   "metadata": {},
   "outputs": [
    {
     "name": "stdout",
     "output_type": "stream",
     "text": [
      "42/42 [==============================] - 1s 10ms/step\n"
     ]
    }
   ],
   "source": [
    "decoded_output= autoencoder2.predict(X_test)"
   ]
  },
  {
   "cell_type": "markdown",
   "metadata": {},
   "source": [
    "### Plot the losses"
   ]
  },
  {
   "cell_type": "code",
   "execution_count": 34,
   "metadata": {},
   "outputs": [
    {
     "name": "stdout",
     "output_type": "stream",
     "text": [
      "dict_keys(['loss', 'val_loss'])\n"
     ]
    },
    {
     "data": {
      "image/png": "[encoded data removed]",
      "text/plain": [
       "<Figure size 640x480 with 1 Axes>"
      ]
     },
     "metadata": {},
     "output_type": "display_data"
    }
   ],
   "source": [
    "print(history.history.keys())\n",
    "\n",
    "plt.plot(history.history['loss'])\n",
    "plt.plot(history.history['val_loss'])\n",
    "plt.title('model loss')\n",
    "plt.ylabel('loss')\n",
    "plt.xlabel('epoch')\n",
    "plt.legend(['train', 'validation'], loc='upper right')\n",
    "plt.show()"
   ]
  },
  {
   "cell_type": "code",
   "execution_count": 36,
   "metadata": {},
   "outputs": [],
   "source": [
    "encoder_model = Model(inputs=autoencoder2.input, outputs=autoencoder2.get_layer(index=3).output)  #bottleneck layer"
   ]
  },
  {
   "cell_type": "code",
   "execution_count": 37,
   "metadata": {},
   "outputs": [],
   "source": [
    "#defining a classifier using the encoded features\n",
    "classifier = Sequential([\n",
    "    Dense(3, activation=\"softmax\")  #output layer (3 classes)\n",
    "])\n",
    "\n",
    "# Compile the classifier\n",
    "classifier.compile(optimizer=Adam(learning_rate=1e-3), loss='sparse_categorical_crossentropy')\n"
   ]
  },
  {
   "cell_type": "code",
   "execution_count": 39,
   "metadata": {},
   "outputs": [
    {
     "name": "stdout",
     "output_type": "stream",
     "text": [
      "Epoch 1/200\n",
      "32/32 [==============================] - 0s 6ms/step - loss: 1.5233 - val_loss: 1.3188\n",
      "Epoch 2/200\n",
      "32/32 [==============================] - 0s 3ms/step - loss: 1.2028 - val_loss: 1.1672\n",
      "Epoch 3/200\n",
      "32/32 [==============================] - 0s 3ms/step - loss: 1.1182 - val_loss: 1.1268\n",
      "Epoch 4/200\n",
      "32/32 [==============================] - 0s 3ms/step - loss: 1.0807 - val_loss: 1.0988\n",
      "Epoch 5/200\n",
      "32/32 [==============================] - 0s 3ms/step - loss: 1.0531 - val_loss: 1.0729\n",
      "Epoch 6/200\n",
      "32/32 [==============================] - 0s 3ms/step - loss: 1.0307 - val_loss: 1.0538\n",
      "Epoch 7/200\n",
      "32/32 [==============================] - 0s 3ms/step - loss: 1.0128 - val_loss: 1.0387\n",
      "Epoch 8/200\n",
      "32/32 [==============================] - 0s 3ms/step - loss: 0.9969 - val_loss: 1.0249\n",
      "Epoch 9/200\n",
      "32/32 [==============================] - 0s 3ms/step - loss: 0.9868 - val_loss: 1.0131\n",
      "Epoch 10/200\n",
      "32/32 [==============================] - 0s 3ms/step - loss: 0.9741 - val_loss: 1.0053\n",
      "Epoch 11/200\n",
      "32/32 [==============================] - 0s 3ms/step - loss: 0.9660 - val_loss: 0.9969\n",
      "Epoch 12/200\n",
      "32/32 [==============================] - 0s 3ms/step - loss: 0.9582 - val_loss: 0.9924\n",
      "Epoch 13/200\n",
      "32/32 [==============================] - 0s 3ms/step - loss: 0.9533 - val_loss: 0.9862\n",
      "Epoch 14/200\n",
      "32/32 [==============================] - 0s 3ms/step - loss: 0.9478 - val_loss: 0.9817\n",
      "Epoch 15/200\n",
      "32/32 [==============================] - 0s 3ms/step - loss: 0.9437 - val_loss: 0.9787\n",
      "Epoch 16/200\n",
      "32/32 [==============================] - 0s 3ms/step - loss: 0.9393 - val_loss: 0.9730\n",
      "Epoch 17/200\n",
      "32/32 [==============================] - 0s 3ms/step - loss: 0.9379 - val_loss: 0.9704\n",
      "Epoch 18/200\n",
      "32/32 [==============================] - 0s 3ms/step - loss: 0.9338 - val_loss: 0.9691\n",
      "Epoch 19/200\n",
      "32/32 [==============================] - 0s 3ms/step - loss: 0.9310 - val_loss: 0.9667\n",
      "Epoch 20/200\n",
      "32/32 [==============================] - 0s 3ms/step - loss: 0.9299 - val_loss: 0.9637\n",
      "Epoch 21/200\n",
      "32/32 [==============================] - 0s 3ms/step - loss: 0.9269 - val_loss: 0.9624\n",
      "Epoch 22/200\n",
      "32/32 [==============================] - 0s 4ms/step - loss: 0.9271 - val_loss: 0.9596\n",
      "Epoch 23/200\n",
      "32/32 [==============================] - 0s 3ms/step - loss: 0.9237 - val_loss: 0.9595\n",
      "Epoch 24/200\n",
      "32/32 [==============================] - 0s 7ms/step - loss: 0.9218 - val_loss: 0.9581\n",
      "Epoch 25/200\n",
      "32/32 [==============================] - 0s 3ms/step - loss: 0.9209 - val_loss: 0.9558\n",
      "Epoch 26/200\n",
      "32/32 [==============================] - 0s 3ms/step - loss: 0.9195 - val_loss: 0.9542\n",
      "Epoch 27/200\n",
      "32/32 [==============================] - 0s 3ms/step - loss: 0.9184 - val_loss: 0.9531\n",
      "Epoch 28/200\n",
      "32/32 [==============================] - 0s 3ms/step - loss: 0.9187 - val_loss: 0.9528\n",
      "Epoch 29/200\n",
      "32/32 [==============================] - 0s 3ms/step - loss: 0.9182 - val_loss: 0.9531\n",
      "Epoch 30/200\n",
      "32/32 [==============================] - 0s 3ms/step - loss: 0.9166 - val_loss: 0.9521\n",
      "Epoch 31/200\n",
      "32/32 [==============================] - 0s 3ms/step - loss: 0.9169 - val_loss: 0.9526\n",
      "Epoch 32/200\n",
      "32/32 [==============================] - 0s 3ms/step - loss: 0.9170 - val_loss: 0.9535\n"
     ]
    }
   ],
   "source": [
    "\n",
    "#compute class weights\n",
    "#class_weights = compute_class_weight(\"balanced\", classes=np.unique(y_train), y=y_train)\n",
    "#class_weights_dict = {i: class_weights[i] for i in range(len(class_weights))} improves performance in classes 0 and 2 but lowers the performance\n",
    "#print(\"class Weights:\", class_weights_dict)\n",
    "# Train classifier\n",
    "early_stopping = EarlyStopping(monitor='val_loss', patience=2, restore_best_weights=True) \n",
    "history=classifier.fit(X_train, y_train, epochs=200, batch_size=128, validation_data=(X_val, y_val), shuffle = True,callbacks=[early_stopping])\n",
    "\n"
   ]
  },
  {
   "cell_type": "markdown",
   "metadata": {},
   "source": [
    "# plot"
   ]
  },
  {
   "cell_type": "code",
   "execution_count": 40,
   "metadata": {},
   "outputs": [
    {
     "name": "stdout",
     "output_type": "stream",
     "text": [
      "dict_keys(['loss', 'val_loss'])\n"
     ]
    },
    {
     "data": {
      "image/png": "[encoded data removed]",
      "text/plain": [
       "<Figure size 640x480 with 1 Axes>"
      ]
     },
     "metadata": {},
     "output_type": "display_data"
    }
   ],
   "source": [
    "print(history.history.keys())\n",
    "\n",
    "plt.plot(history.history['loss'])\n",
    "plt.plot(history.history['val_loss'])\n",
    "plt.title('model loss')\n",
    "plt.ylabel('loss')\n",
    "plt.xlabel('epoch')\n",
    "plt.legend(['train', 'validation'], loc='upper right')\n",
    "plt.show()"
   ]
  },
  {
   "cell_type": "code",
   "execution_count": 42,
   "metadata": {},
   "outputs": [
    {
     "name": "stdout",
     "output_type": "stream",
     "text": [
      "42/42 [==============================] - 0s 1ms/step\n",
      "              precision    recall  f1-score   support\n",
      "\n",
      "           0     0.3243    0.0366    0.0658       328\n",
      "           1     0.5844    0.8659    0.6978       604\n",
      "           2     0.5765    0.5765    0.5765       392\n",
      "\n",
      "    accuracy                         0.5748      1324\n",
      "   macro avg     0.4951    0.4930    0.4467      1324\n",
      "weighted avg     0.5176    0.5748    0.5053      1324\n",
      "\n"
     ]
    }
   ],
   "source": [
    "from sklearn.metrics import classification_report\n",
    "\n",
    "\n",
    "y_pred_prob = classifier.predict(X_test)\n",
    "\n",
    "#converting to class labels\n",
    "y_pred = y_pred_prob.argmax(axis=1)  #getting class with highest probability\n",
    "\n",
    "print(classification_report(y_test, y_pred, digits=4))"
   ]
  },
  {
   "cell_type": "markdown",
   "metadata": {},
   "source": [
    "# Trying 3 layers"
   ]
  },
  {
   "cell_type": "code",
   "execution_count": 44,
   "metadata": {},
   "outputs": [],
   "source": [
    "\n",
    "input_size = 70\n",
    "hidden_size1 = 1000\n",
    "hidden_size2 = 1000\n",
    "hidden_size3 = 1000\n",
    "bottleneck_size = 1000\n",
    "output_size = 70\n",
    "\n",
    "input_layer = Input(shape=(input_size,))\n",
    "\n",
    "\n",
    "encoder = Dense(hidden_size1, activation=\"relu\")(input_layer)\n",
    "encoder = Dense(hidden_size2, activation=\"relu\")(encoder)\n",
    "encoder = Dense(hidden_size3, activation=\"relu\")(encoder)\n",
    "bottleneck = Dense(bottleneck_size, activation=\"relu\")(encoder)  # Bottleneck layer\n",
    "\n",
    "#decoder with 3 hidden layers\n",
    "decoder = Dense(hidden_size3, activation=\"relu\")(bottleneck)\n",
    "decoder = Dense(hidden_size2, activation=\"relu\")(decoder)\n",
    "decoder = Dense(hidden_size1, activation=\"relu\")(decoder)\n",
    "output_layer = Dense(output_size, activation=\"sigmoid\")(decoder)  # Final output layer\n",
    "\n",
    "#defining the Autoencoder model\n",
    "autoencoder3 = Model(inputs=input_layer, outputs=output_layer)\n",
    "\n",
    "#compile the model\n",
    "autoencoder3.compile(optimizer=Adam(learning_rate=1e-3), loss='mse')\n"
   ]
  },
  {
   "cell_type": "code",
   "execution_count": 45,
   "metadata": {},
   "outputs": [
    {
     "name": "stdout",
     "output_type": "stream",
     "text": [
      "Epoch 1/200\n",
      "32/32 [==============================] - 2s 56ms/step - loss: 0.9234 - val_loss: 0.8311\n",
      "Epoch 2/200\n",
      "32/32 [==============================] - 2s 55ms/step - loss: 0.7630 - val_loss: 0.7466\n",
      "Epoch 3/200\n",
      "32/32 [==============================] - 2s 52ms/step - loss: 0.7236 - val_loss: 0.7145\n",
      "Epoch 4/200\n",
      "32/32 [==============================] - 2s 60ms/step - loss: 0.7067 - val_loss: 0.7067\n",
      "Epoch 5/200\n",
      "32/32 [==============================] - 2s 55ms/step - loss: 0.7006 - val_loss: 0.6991\n",
      "Epoch 6/200\n",
      "32/32 [==============================] - 2s 51ms/step - loss: 0.6952 - val_loss: 0.6967\n",
      "Epoch 7/200\n",
      "32/32 [==============================] - 2s 52ms/step - loss: 0.6939 - val_loss: 0.6981\n",
      "Epoch 8/200\n",
      "32/32 [==============================] - 2s 52ms/step - loss: 0.6954 - val_loss: 0.6995\n"
     ]
    }
   ],
   "source": [
    "early_stopping = EarlyStopping(monitor='val_loss', patience=2, restore_best_weights=True)\n",
    "history = autoencoder3.fit(X_train, X_train, batch_size=128, epochs=200, verbose=1, validation_data=(X_val, X_val), shuffle=True,callbacks=[early_stopping])"
   ]
  },
  {
   "cell_type": "markdown",
   "metadata": {},
   "source": [
    "# Plot"
   ]
  },
  {
   "cell_type": "code",
   "execution_count": 46,
   "metadata": {},
   "outputs": [
    {
     "name": "stdout",
     "output_type": "stream",
     "text": [
      "dict_keys(['loss', 'val_loss'])\n"
     ]
    },
    {
     "data": {
      "image/png": "[encoded data removed]",
      "text/plain": [
       "<Figure size 640x480 with 1 Axes>"
      ]
     },
     "metadata": {},
     "output_type": "display_data"
    }
   ],
   "source": [
    "print(history.history.keys())\n",
    "\n",
    "plt.plot(history.history['loss'])\n",
    "plt.plot(history.history['val_loss'])\n",
    "plt.title('model loss')\n",
    "plt.ylabel('loss')\n",
    "plt.xlabel('epoch')\n",
    "plt.legend(['train', 'validation'], loc='upper right')\n",
    "plt.show()"
   ]
  },
  {
   "cell_type": "markdown",
   "metadata": {},
   "source": [
    "# Classification"
   ]
  },
  {
   "cell_type": "code",
   "execution_count": 47,
   "metadata": {},
   "outputs": [],
   "source": [
    "encoder_model = Model(inputs=autoencoder3.input, outputs=autoencoder3.get_layer(index=4).output)\n",
    "\n",
    "classifier = Sequential([\n",
    "    Dense(3, activation=\"softmax\")  #output layer (3 classes)\n",
    "])\n",
    "\n",
    "#compiling the classifier\n",
    "classifier.compile(optimizer=Adam(learning_rate=1e-3), loss='sparse_categorical_crossentropy')\n"
   ]
  },
  {
   "cell_type": "code",
   "execution_count": 49,
   "metadata": {},
   "outputs": [
    {
     "name": "stdout",
     "output_type": "stream",
     "text": [
      "Epoch 1/200\n",
      "32/32 [==============================] - 0s 6ms/step - loss: 1.2604 - val_loss: 1.1547\n",
      "Epoch 2/200\n",
      "32/32 [==============================] - 0s 3ms/step - loss: 1.0843 - val_loss: 1.0877\n",
      "Epoch 3/200\n",
      "32/32 [==============================] - 0s 3ms/step - loss: 1.0462 - val_loss: 1.0570\n",
      "Epoch 4/200\n",
      "32/32 [==============================] - 0s 3ms/step - loss: 1.0178 - val_loss: 1.0365\n",
      "Epoch 5/200\n",
      "32/32 [==============================] - 0s 3ms/step - loss: 0.9980 - val_loss: 1.0188\n",
      "Epoch 6/200\n",
      "32/32 [==============================] - 0s 3ms/step - loss: 0.9813 - val_loss: 1.0058\n",
      "Epoch 7/200\n",
      "32/32 [==============================] - 0s 3ms/step - loss: 0.9678 - val_loss: 0.9940\n",
      "Epoch 8/200\n",
      "32/32 [==============================] - 0s 3ms/step - loss: 0.9583 - val_loss: 0.9850\n",
      "Epoch 9/200\n",
      "32/32 [==============================] - 0s 3ms/step - loss: 0.9498 - val_loss: 0.9772\n",
      "Epoch 10/200\n",
      "32/32 [==============================] - 0s 3ms/step - loss: 0.9425 - val_loss: 0.9723\n",
      "Epoch 11/200\n",
      "32/32 [==============================] - 0s 3ms/step - loss: 0.9369 - val_loss: 0.9685\n",
      "Epoch 12/200\n",
      "32/32 [==============================] - 0s 3ms/step - loss: 0.9324 - val_loss: 0.9643\n",
      "Epoch 13/200\n",
      "32/32 [==============================] - 0s 3ms/step - loss: 0.9304 - val_loss: 0.9611\n",
      "Epoch 14/200\n",
      "32/32 [==============================] - 0s 2ms/step - loss: 0.9270 - val_loss: 0.9589\n",
      "Epoch 15/200\n",
      "32/32 [==============================] - 0s 6ms/step - loss: 0.9247 - val_loss: 0.9577\n",
      "Epoch 16/200\n",
      "32/32 [==============================] - 0s 2ms/step - loss: 0.9234 - val_loss: 0.9558\n",
      "Epoch 17/200\n",
      "32/32 [==============================] - 0s 2ms/step - loss: 0.9223 - val_loss: 0.9544\n",
      "Epoch 18/200\n",
      "32/32 [==============================] - 0s 2ms/step - loss: 0.9199 - val_loss: 0.9517\n",
      "Epoch 19/200\n",
      "32/32 [==============================] - 0s 3ms/step - loss: 0.9209 - val_loss: 0.9523\n",
      "Epoch 20/200\n",
      "32/32 [==============================] - 0s 3ms/step - loss: 0.9173 - val_loss: 0.9504\n",
      "Epoch 21/200\n",
      "32/32 [==============================] - 0s 3ms/step - loss: 0.9166 - val_loss: 0.9481\n",
      "Epoch 22/200\n",
      "32/32 [==============================] - 0s 3ms/step - loss: 0.9156 - val_loss: 0.9480\n",
      "Epoch 23/200\n",
      "32/32 [==============================] - 0s 3ms/step - loss: 0.9164 - val_loss: 0.9467\n",
      "Epoch 24/200\n",
      "32/32 [==============================] - 0s 3ms/step - loss: 0.9151 - val_loss: 0.9453\n",
      "Epoch 25/200\n",
      "32/32 [==============================] - 0s 3ms/step - loss: 0.9148 - val_loss: 0.9453\n",
      "Epoch 26/200\n",
      "32/32 [==============================] - 0s 3ms/step - loss: 0.9161 - val_loss: 0.9481\n",
      "Epoch 27/200\n",
      "32/32 [==============================] - 0s 3ms/step - loss: 0.9124 - val_loss: 0.9445\n",
      "Epoch 28/200\n",
      "32/32 [==============================] - 0s 3ms/step - loss: 0.9125 - val_loss: 0.9446\n",
      "Epoch 29/200\n",
      "32/32 [==============================] - 0s 3ms/step - loss: 0.9123 - val_loss: 0.9435\n",
      "Epoch 30/200\n",
      "32/32 [==============================] - 0s 3ms/step - loss: 0.9129 - val_loss: 0.9430\n",
      "Epoch 31/200\n",
      "32/32 [==============================] - 0s 3ms/step - loss: 0.9118 - val_loss: 0.9425\n",
      "Epoch 32/200\n",
      "32/32 [==============================] - 0s 3ms/step - loss: 0.9115 - val_loss: 0.9428\n",
      "Epoch 33/200\n",
      "32/32 [==============================] - 0s 3ms/step - loss: 0.9109 - val_loss: 0.9434\n"
     ]
    }
   ],
   "source": [
    "early_stopping = EarlyStopping(monitor='val_loss', patience=2, restore_best_weights=True)\n",
    "history=classifier.fit(X_train, y_train, epochs=200, batch_size=128, validation_data=(X_val, y_val), shuffle = True,callbacks=[early_stopping])\n"
   ]
  },
  {
   "cell_type": "markdown",
   "metadata": {},
   "source": [
    "# Plot"
   ]
  },
  {
   "cell_type": "code",
   "execution_count": 50,
   "metadata": {},
   "outputs": [
    {
     "name": "stdout",
     "output_type": "stream",
     "text": [
      "dict_keys(['loss', 'val_loss'])\n"
     ]
    },
    {
     "data": {
      "image/png": "[encoded data removed]",
      "text/plain": [
       "<Figure size 640x480 with 1 Axes>"
      ]
     },
     "metadata": {},
     "output_type": "display_data"
    }
   ],
   "source": [
    "print(history.history.keys())\n",
    "\n",
    "plt.plot(history.history['loss'])\n",
    "plt.plot(history.history['val_loss'])\n",
    "plt.title('model loss')\n",
    "plt.ylabel('loss')\n",
    "plt.xlabel('epoch')\n",
    "plt.legend(['train', 'validation'], loc='upper right')\n",
    "plt.show()"
   ]
  },
  {
   "cell_type": "markdown",
   "metadata": {},
   "source": [
    "# Test"
   ]
  },
  {
   "cell_type": "code",
   "execution_count": 52,
   "metadata": {},
   "outputs": [
    {
     "name": "stdout",
     "output_type": "stream",
     "text": [
      "42/42 [==============================] - 0s 1ms/step\n",
      "              precision    recall  f1-score   support\n",
      "\n",
      "           0     0.2456    0.0427    0.0727       328\n",
      "           1     0.5862    0.8609    0.6975       604\n",
      "           2     0.5763    0.5587    0.5674       392\n",
      "\n",
      "    accuracy                         0.5687      1324\n",
      "   macro avg     0.4694    0.4874    0.4459      1324\n",
      "weighted avg     0.4989    0.5687    0.5042      1324\n",
      "\n"
     ]
    }
   ],
   "source": [
    "from sklearn.metrics import classification_report\n",
    "\n",
    "\n",
    "y_pred_prob = classifier.predict(X_test)\n",
    "\n",
    "#converting to class labels\n",
    "y_pred = y_pred_prob.argmax(axis=1)  #getting class with highest probability\n",
    "\n",
    "print(classification_report(y_test, y_pred, digits=4))"
   ]
  },
  {
   "cell_type": "code",
   "execution_count": null,
   "metadata": {},
   "outputs": [],
   "source": [
    "#############################################################################################################################################################################################"
   ]
  },
  {
   "cell_type": "markdown",
   "metadata": {},
   "source": [
    "# SMOTE with Simple Autoencoder\n",
    "you need to run the import cell and the first cell at the beginning then run the cell below for preprocessing \n"
   ]
  },
  {
   "cell_type": "code",
   "execution_count": 98,
   "metadata": {},
   "outputs": [
    {
     "name": "stdout",
     "output_type": "stream",
     "text": [
      "Original class distribution: Counter({1: 1866, 2: 1111, 0: 995})\n",
      "Resampled class distribution: Counter({0: 1866, 2: 1866, 1: 1866})\n"
     ]
    }
   ],
   "source": [
    "#applying SMOTE only on training data to balance classes\n",
    "smote = SMOTE(random_state=42)\n",
    "X_train_resampled, y_train_resampled = smote.fit_resample(X_train, y_train)\n",
    "\n",
    "#printing class distributions\n",
    "print(\"Original class distribution:\", Counter(y_train))\n",
    "print(\"Resampled class distribution:\", Counter(y_train_resampled))\n",
    "\n",
    "\n",
    "scaler = StandardScaler()\n",
    "scaler.fit(X_train_resampled) \n",
    "X_train_resampled = scaler.transform(X_train_resampled)\n",
    "X_val = scaler.transform(X_val)\n",
    "X_test = scaler.transform(X_test)\n"
   ]
  },
  {
   "cell_type": "code",
   "execution_count": 99,
   "metadata": {},
   "outputs": [],
   "source": [
    "input_size = 70\n",
    "hidden_size = 1000\n",
    "bottleneck_size = 1000 \n",
    "output_size = 70"
   ]
  },
  {
   "cell_type": "code",
   "execution_count": 100,
   "metadata": {},
   "outputs": [],
   "source": [
    "\n",
    "input_layer = Input(shape=(input_size,))\n",
    "\n",
    "encoder = Dense(hidden_size, activation=\"relu\")(input_layer)\n",
    "\n",
    "\n",
    "bottleneck = Dense(bottleneck_size, activation=\"relu\")(encoder) \n",
    "\n",
    "\n",
    "decoder = Dense(hidden_size, activation=\"relu\")(bottleneck)\n",
    "\n",
    "output_layer = Dense(input_size, activation=\"sigmoid\")(decoder)  \n",
    "\n",
    "autoencoder = Model(inputs=input_layer, outputs=output_layer)\n",
    "autoencoder.compile(optimizer=Adam(learning_rate=1e-3), loss='mse')"
   ]
  },
  {
   "cell_type": "code",
   "execution_count": 101,
   "metadata": {},
   "outputs": [
    {
     "name": "stdout",
     "output_type": "stream",
     "text": [
      "Epoch 1/200\n",
      "44/44 [==============================] - 2s 26ms/step - loss: 0.7279 - val_loss: 0.6601\n",
      "Epoch 2/200\n",
      "44/44 [==============================] - 1s 21ms/step - loss: 0.6051 - val_loss: 0.6110\n",
      "Epoch 3/200\n",
      "44/44 [==============================] - 1s 23ms/step - loss: 0.5841 - val_loss: 0.5995\n",
      "Epoch 4/200\n",
      "44/44 [==============================] - 1s 22ms/step - loss: 0.5738 - val_loss: 0.5909\n",
      "Epoch 5/200\n",
      "44/44 [==============================] - 1s 22ms/step - loss: 0.5699 - val_loss: 0.5877\n",
      "Epoch 6/200\n",
      "44/44 [==============================] - 1s 23ms/step - loss: 0.5683 - val_loss: 0.5866\n",
      "Epoch 7/200\n",
      "44/44 [==============================] - 1s 22ms/step - loss: 0.5672 - val_loss: 0.5859\n",
      "Epoch 8/200\n",
      "44/44 [==============================] - 1s 23ms/step - loss: 0.5668 - val_loss: 0.5847\n",
      "Epoch 9/200\n",
      "44/44 [==============================] - 1s 20ms/step - loss: 0.5663 - val_loss: 0.5846\n",
      "Epoch 10/200\n",
      "44/44 [==============================] - 1s 21ms/step - loss: 0.5661 - val_loss: 0.5844\n",
      "Epoch 11/200\n",
      "44/44 [==============================] - 1s 21ms/step - loss: 0.5658 - val_loss: 0.5840\n",
      "Epoch 12/200\n",
      "44/44 [==============================] - 1s 26ms/step - loss: 0.5656 - val_loss: 0.5840\n",
      "Epoch 13/200\n",
      "44/44 [==============================] - 1s 21ms/step - loss: 0.5654 - val_loss: 0.5837\n",
      "Epoch 14/200\n",
      "44/44 [==============================] - 1s 20ms/step - loss: 0.5652 - val_loss: 0.5835\n",
      "Epoch 15/200\n",
      "44/44 [==============================] - 1s 21ms/step - loss: 0.5652 - val_loss: 0.5835\n",
      "Epoch 16/200\n",
      "44/44 [==============================] - 1s 21ms/step - loss: 0.5651 - val_loss: 0.5834\n",
      "Epoch 17/200\n",
      "44/44 [==============================] - 1s 21ms/step - loss: 0.5650 - val_loss: 0.5833\n",
      "Epoch 18/200\n",
      "44/44 [==============================] - 1s 21ms/step - loss: 0.5650 - val_loss: 0.5834\n",
      "Epoch 19/200\n",
      "44/44 [==============================] - 1s 24ms/step - loss: 0.5649 - val_loss: 0.5834\n"
     ]
    }
   ],
   "source": [
    "from keras.callbacks import EarlyStopping\n",
    "\n",
    "early_stopping = EarlyStopping(monitor='val_loss', patience=2, restore_best_weights=True)\n",
    "history = autoencoder.fit(X_train_resampled, X_train_resampled, epochs=200, batch_size=128, validation_data=(X_val, X_val),shuffle=True, callbacks=[early_stopping])"
   ]
  },
  {
   "cell_type": "markdown",
   "metadata": {},
   "source": [
    "# Plot"
   ]
  },
  {
   "cell_type": "code",
   "execution_count": 102,
   "metadata": {},
   "outputs": [
    {
     "name": "stdout",
     "output_type": "stream",
     "text": [
      "dict_keys(['loss', 'val_loss'])\n"
     ]
    },
    {
     "data": {
      "text/plain": [
       "<matplotlib.legend.Legend at 0x1f2d764ce50>"
      ]
     },
     "execution_count": 102,
     "metadata": {},
     "output_type": "execute_result"
    },
    {
     "data": {
      "image/png": "[encoded data removed]",
      "text/plain": [
       "<Figure size 640x480 with 1 Axes>"
      ]
     },
     "metadata": {},
     "output_type": "display_data"
    }
   ],
   "source": [
    "print(history.history.keys())\n",
    "\n",
    "plt.plot(history.history['loss'])\n",
    "plt.plot(history.history['val_loss'])\n",
    "plt.title('model loss')\n",
    "plt.ylabel('loss')\n",
    "plt.xlabel('epoch')\n",
    "plt.legend(['train', 'validation'], loc='upper right')"
   ]
  },
  {
   "cell_type": "markdown",
   "metadata": {},
   "source": [
    "# Classification with softmax"
   ]
  },
  {
   "cell_type": "code",
   "execution_count": 103,
   "metadata": {},
   "outputs": [],
   "source": [
    "encoder_model = Model(inputs=autoencoder.input, outputs=autoencoder.get_layer(index=2).output)"
   ]
  },
  {
   "cell_type": "code",
   "execution_count": 104,
   "metadata": {},
   "outputs": [
    {
     "name": "stdout",
     "output_type": "stream",
     "text": [
      "Epoch 1/200\n",
      "44/44 [==============================] - 0s 4ms/step - loss: 1.1784 - val_loss: 1.1295\n",
      "Epoch 2/200\n",
      "44/44 [==============================] - 0s 2ms/step - loss: 1.0660 - val_loss: 1.0713\n",
      "Epoch 3/200\n",
      "44/44 [==============================] - 0s 2ms/step - loss: 1.0275 - val_loss: 1.0391\n",
      "Epoch 4/200\n",
      "44/44 [==============================] - 0s 2ms/step - loss: 1.0022 - val_loss: 1.0181\n",
      "Epoch 5/200\n",
      "44/44 [==============================] - 0s 2ms/step - loss: 0.9851 - val_loss: 1.0047\n",
      "Epoch 6/200\n",
      "44/44 [==============================] - 0s 2ms/step - loss: 0.9731 - val_loss: 0.9952\n",
      "Epoch 7/200\n",
      "44/44 [==============================] - 0s 3ms/step - loss: 0.9637 - val_loss: 0.9880\n",
      "Epoch 8/200\n",
      "44/44 [==============================] - 0s 3ms/step - loss: 0.9563 - val_loss: 0.9818\n",
      "Epoch 9/200\n",
      "44/44 [==============================] - 0s 3ms/step - loss: 0.9516 - val_loss: 0.9814\n",
      "Epoch 10/200\n",
      "44/44 [==============================] - 0s 2ms/step - loss: 0.9469 - val_loss: 0.9789\n",
      "Epoch 11/200\n",
      "44/44 [==============================] - 0s 3ms/step - loss: 0.9438 - val_loss: 0.9752\n",
      "Epoch 12/200\n",
      "44/44 [==============================] - 0s 3ms/step - loss: 0.9422 - val_loss: 0.9785\n",
      "Epoch 13/200\n",
      "44/44 [==============================] - 0s 3ms/step - loss: 0.9400 - val_loss: 0.9750\n",
      "Epoch 14/200\n",
      "44/44 [==============================] - 0s 3ms/step - loss: 0.9379 - val_loss: 0.9749\n",
      "Epoch 15/200\n",
      "44/44 [==============================] - 0s 3ms/step - loss: 0.9366 - val_loss: 0.9755\n",
      "Epoch 16/200\n",
      "44/44 [==============================] - 0s 2ms/step - loss: 0.9359 - val_loss: 0.9730\n",
      "Epoch 17/200\n",
      "44/44 [==============================] - 0s 3ms/step - loss: 0.9351 - val_loss: 0.9719\n",
      "Epoch 18/200\n",
      "44/44 [==============================] - 0s 3ms/step - loss: 0.9346 - val_loss: 0.9745\n",
      "Epoch 19/200\n",
      "44/44 [==============================] - 0s 3ms/step - loss: 0.9343 - val_loss: 0.9739\n"
     ]
    },
    {
     "data": {
      "text/plain": [
       "<keras.callbacks.History at 0x1f2d757d220>"
      ]
     },
     "execution_count": 104,
     "metadata": {},
     "output_type": "execute_result"
    }
   ],
   "source": [
    "\n",
    "classifier = Sequential([\n",
    "    Dense(3, activation=\"softmax\", input_shape=(X_train_resampled.shape[1],)) \n",
    "])\n",
    "\n",
    "classifier.compile(optimizer=Adam(learning_rate=1e-3), loss='sparse_categorical_crossentropy')\n",
    "early_stopping = EarlyStopping(monitor='val_loss', patience=2, restore_best_weights=True)\n",
    "classifier.fit(X_train_resampled, y_train_resampled, epochs=200, batch_size=128, validation_data=(X_val, y_val),shuffle=True, callbacks=[early_stopping])"
   ]
  },
  {
   "cell_type": "code",
   "execution_count": 105,
   "metadata": {},
   "outputs": [
    {
     "name": "stdout",
     "output_type": "stream",
     "text": [
      "dict_keys(['loss', 'val_loss'])\n"
     ]
    },
    {
     "data": {
      "text/plain": [
       "<matplotlib.legend.Legend at 0x1f2d74f4c40>"
      ]
     },
     "execution_count": 105,
     "metadata": {},
     "output_type": "execute_result"
    },
    {
     "data": {
      "image/png": "[encoded data removed]",
      "text/plain": [
       "<Figure size 640x480 with 1 Axes>"
      ]
     },
     "metadata": {},
     "output_type": "display_data"
    }
   ],
   "source": [
    "print(history.history.keys())\n",
    "\n",
    "plt.plot(history.history['loss'])\n",
    "plt.plot(history.history['val_loss'])\n",
    "plt.title('model loss')\n",
    "plt.ylabel('loss')\n",
    "plt.xlabel('epoch')\n",
    "plt.legend(['train', 'validation'], loc='upper right')"
   ]
  },
  {
   "cell_type": "code",
   "execution_count": 106,
   "metadata": {},
   "outputs": [
    {
     "name": "stdout",
     "output_type": "stream",
     "text": [
      "42/42 [==============================] - 0s 1ms/step\n",
      "              precision    recall  f1-score   support\n",
      "\n",
      "           0     0.2802    0.3110    0.2948       328\n",
      "           1     0.6642    0.5960    0.6283       604\n",
      "           2     0.5502    0.5867    0.5679       392\n",
      "\n",
      "    accuracy                         0.5227      1324\n",
      "   macro avg     0.4982    0.4979    0.4970      1324\n",
      "weighted avg     0.5353    0.5227    0.5278      1324\n",
      "\n"
     ]
    }
   ],
   "source": [
    "from sklearn.metrics import classification_report\n",
    "\n",
    "\n",
    "y_pred_prob = classifier.predict(X_test)\n",
    "\n",
    "#converting to class labels\n",
    "y_pred = y_pred_prob.argmax(axis=1)  #getting class with highest probability\n",
    "\n",
    "print(classification_report(y_test, y_pred, digits=4))"
   ]
  }
 ],
 "metadata": {
  "kernelspec": {
   "display_name": "Python 3 (ipykernel)",
   "language": "python",
   "name": "python3"
  },
  "language_info": {
   "codemirror_mode": {
    "name": "ipython",
    "version": 3
   },
   "file_extension": ".py",
   "mimetype": "text/x-python",
   "name": "python",
   "nbconvert_exporter": "python",
   "pygments_lexer": "ipython3",
   "version": "3.9.21"
  }
 },
 "nbformat": 4,
 "nbformat_minor": 4
}
