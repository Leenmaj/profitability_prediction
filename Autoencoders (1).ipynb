{
 "cells": [
  {
   "cell_type": "markdown",
   "metadata": {},
   "source": [
    "# Autoencoders"
   ]
  },
  {
   "cell_type": "markdown",
   "metadata": {},
   "source": [
    "# 2 types of autoencoders to try"
   ]
  },
  {
   "cell_type": "markdown",
   "metadata": {},
   "source": [
    "important note cant run the code sequentially since x_train and x_val x_test change throughout the code so need to run the split cell and the scale cell before running any autoencode w/o smote and for the one with smote run the splitting cell then the code that section bec we scale after applying smote sorry if its a bit complicated..\n",
    "1. Vanilla (one layer) autoencoders \n",
    "2. Multilayer autoencoder\n",
    "\n",
    "**all with softmax to classify\n",
    "without smote just standardised the dataset using StandardScaler fitting it only on the training data to prevent data leakage and then applying the same transformation to the validation and test set\n",
    "\n",
    "SMOTE gave a slightly better result 52% (f-score)\n",
    "**The code with smote repeats the same preprocessing technique as before with the scaling^^ so to run that section you would need to run the import libraries then the cell below it then the code in the smote section no need to runn all cells since it will scale again "
   ]
  },
  {
   "cell_type": "markdown",
   "metadata": {},
   "source": [
    "## Import the libraries"
   ]
  },
  {
   "cell_type": "code",
   "execution_count": 88,
   "metadata": {},
   "outputs": [],
   "source": [
    "import keras\n",
    "import numpy as np\n",
    "import matplotlib.pyplot as plt\n",
    "%matplotlib inline\n",
    "from keras.optimizers import Adam\n",
    "from keras.models import Model\n",
    "from keras.layers import Input, add\n",
    "from keras.layers.core import Dense, Dropout, Activation, Flatten, Reshape\n",
    "from keras.models import Sequential\n",
    "from sklearn.preprocessing import StandardScaler"
   ]
  },
  {
   "cell_type": "markdown",
   "metadata": {},
   "source": [
    "## Load the data"
   ]
  },
  {
   "cell_type": "markdown",
   "metadata": {},
   "source": [
    "We don't need the labels as the autoencoders are unsupervised network"
   ]
  },
  {
   "cell_type": "markdown",
   "metadata": {},
   "source": [
    "## Preprocess (need to rerun this cell and the one below it for each autoencoder since x_train changes throughout code)"
   ]
  },
  {
   "cell_type": "markdown",
   "metadata": {},
   "source": [
    "# splitting cell "
   ]
  },
  {
   "cell_type": "code",
   "execution_count": 89,
   "metadata": {},
   "outputs": [
    {
     "name": "stdout",
     "output_type": "stream",
     "text": [
      "Train: 3972, Validation: 1324, Test: 1324\n"
     ]
    }
   ],
   "source": [
    "import pandas as pd\n",
    "from sklearn.model_selection import train_test_split\n",
    "\n",
    "data = r'C:\\Users\\l_alm\\resnet1d-master\\content\\customerTargeting.csv'\n",
    "df = pd.read_csv(data)\n",
    "X = df.drop(columns=[\"target\"])\n",
    "y=df[\"target\"]\n",
    "\n",
    "# 80% (train + validation) and 20% (test)\n",
    "X_train_val, X_test, y_train_val, y_test = train_test_split(X, y, test_size=0.2, random_state=42, stratify=y)\n",
    "\n",
    "# 60% (train) and 20% (validation) from the 80% data\n",
    "X_train, X_val, y_train, y_val = train_test_split(X_train_val, y_train_val, test_size=0.25, random_state=42,stratify=y_train_val)\n",
    "\n",
    "\n",
    "#the final sizes\n",
    "print(f\"Train: {len(X_train)}, Validation: {len(X_val)}, Test: {len(X_test)}\")\n",
    "\n",
    "\n"
   ]
  },
  {
   "cell_type": "markdown",
   "metadata": {},
   "source": [
    "# scaling cell"
   ]
  },
  {
   "cell_type": "markdown",
   "metadata": {},
   "source": [
    "# If you're going to run SMOTE section please dont run this cell below"
   ]
  },
  {
   "cell_type": "code",
   "execution_count": 90,
   "metadata": {},
   "outputs": [],
   "source": [
    "scaler = StandardScaler()\n",
    "scaler.fit(X_train)  # Fit only on training data\n",
    "\n",
    "X_train = scaler.transform(X_train)\n",
    "X_val = scaler.transform(X_val)  # Apply same transformation\n",
    "X_test = scaler.transform(X_test)  # Apply same transformation\n"
   ]
  },
  {
   "cell_type": "markdown",
   "metadata": {},
   "source": [
    "# **Vanilla Autoencoder**"
   ]
  },
  {
   "cell_type": "markdown",
   "metadata": {},
   "source": [
    "### Create the network"
   ]
  },
  {
   "cell_type": "markdown",
   "metadata": {},
   "source": [
    "The first network is the most simple autoencoder. It has three layers Input - encoder - decoder"
   ]
  },
  {
   "cell_type": "code",
   "execution_count": 4,
   "metadata": {},
   "outputs": [],
   "source": [
    "input_size = 70\n",
    "hidden_size = 1000\n",
    "bottleneck_size = 1000\n",
    "output_size = 70"
   ]
  },
  {
   "cell_type": "code",
   "execution_count": 5,
   "metadata": {},
   "outputs": [],
   "source": [
    "\n",
    "\n",
    "input_layer = Input(shape=(input_size,))\n",
    "\n",
    "encoder = Dense(hidden_size, activation=\"relu\")(input_layer)\n",
    "\n",
    "\n",
    "bottleneck = Dense(bottleneck_size, activation=\"relu\")(encoder) \n",
    "\n",
    "\n",
    "decoder = Dense(hidden_size, activation=\"relu\")(bottleneck)\n",
    "\n",
    "output_layer = Dense(input_size, activation=\"sigmoid\")(decoder)  \n",
    "\n",
    "autoencoder = Model(inputs=input_layer, outputs=output_layer)\n",
    "autoencoder.compile(optimizer=Adam(learning_rate=1e-4), loss='mse') "
   ]
  },
  {
   "cell_type": "markdown",
   "metadata": {},
   "source": [
    "### Train"
   ]
  },
  {
   "cell_type": "code",
   "execution_count": 6,
   "metadata": {},
   "outputs": [
    {
     "name": "stdout",
     "output_type": "stream",
     "text": [
      "Epoch 1/200\n",
      "32/32 [==============================] - 1s 27ms/step - loss: 1.0467 - val_loss: 0.8164\n",
      "Epoch 2/200\n",
      "32/32 [==============================] - 1s 21ms/step - loss: 0.7479 - val_loss: 0.6883\n",
      "Epoch 3/200\n",
      "32/32 [==============================] - 1s 20ms/step - loss: 0.6804 - val_loss: 0.6540\n",
      "Epoch 4/200\n",
      "32/32 [==============================] - 1s 22ms/step - loss: 0.6513 - val_loss: 0.6261\n",
      "Epoch 5/200\n",
      "32/32 [==============================] - 1s 20ms/step - loss: 0.6277 - val_loss: 0.6063\n",
      "Epoch 6/200\n",
      "32/32 [==============================] - 1s 24ms/step - loss: 0.6107 - val_loss: 0.5929\n",
      "Epoch 7/200\n",
      "32/32 [==============================] - 1s 20ms/step - loss: 0.5996 - val_loss: 0.5841\n",
      "Epoch 8/200\n",
      "32/32 [==============================] - 1s 20ms/step - loss: 0.5923 - val_loss: 0.5781\n",
      "Epoch 9/200\n",
      "32/32 [==============================] - 1s 21ms/step - loss: 0.5869 - val_loss: 0.5736\n",
      "Epoch 10/200\n",
      "32/32 [==============================] - 1s 21ms/step - loss: 0.5829 - val_loss: 0.5702\n",
      "Epoch 11/200\n",
      "32/32 [==============================] - 1s 21ms/step - loss: 0.5799 - val_loss: 0.5676\n",
      "Epoch 12/200\n",
      "32/32 [==============================] - 1s 20ms/step - loss: 0.5777 - val_loss: 0.5656\n",
      "Epoch 13/200\n",
      "32/32 [==============================] - 1s 22ms/step - loss: 0.5760 - val_loss: 0.5639\n",
      "Epoch 14/200\n",
      "32/32 [==============================] - 1s 21ms/step - loss: 0.5748 - val_loss: 0.5626\n",
      "Epoch 15/200\n",
      "32/32 [==============================] - 1s 20ms/step - loss: 0.5733 - val_loss: 0.5617\n",
      "Epoch 16/200\n",
      "32/32 [==============================] - 1s 20ms/step - loss: 0.5725 - val_loss: 0.5607\n",
      "Epoch 17/200\n",
      "32/32 [==============================] - 1s 20ms/step - loss: 0.5716 - val_loss: 0.5599\n",
      "Epoch 18/200\n",
      "32/32 [==============================] - 1s 20ms/step - loss: 0.5709 - val_loss: 0.5593\n",
      "Epoch 19/200\n",
      "32/32 [==============================] - 1s 22ms/step - loss: 0.5703 - val_loss: 0.5587\n",
      "Epoch 20/200\n",
      "32/32 [==============================] - 1s 20ms/step - loss: 0.5697 - val_loss: 0.5583\n",
      "Epoch 21/200\n",
      "32/32 [==============================] - 1s 20ms/step - loss: 0.5693 - val_loss: 0.5577\n",
      "Epoch 22/200\n",
      "32/32 [==============================] - 1s 22ms/step - loss: 0.5686 - val_loss: 0.5570\n",
      "Epoch 23/200\n",
      "32/32 [==============================] - 1s 21ms/step - loss: 0.5680 - val_loss: 0.5568\n",
      "Epoch 24/200\n",
      "32/32 [==============================] - 1s 20ms/step - loss: 0.5676 - val_loss: 0.5562\n",
      "Epoch 25/200\n",
      "32/32 [==============================] - 1s 20ms/step - loss: 0.5670 - val_loss: 0.5557\n",
      "Epoch 26/200\n",
      "32/32 [==============================] - 1s 21ms/step - loss: 0.5667 - val_loss: 0.5553\n",
      "Epoch 27/200\n",
      "32/32 [==============================] - 1s 20ms/step - loss: 0.5662 - val_loss: 0.5552\n",
      "Epoch 28/200\n",
      "32/32 [==============================] - 1s 20ms/step - loss: 0.5662 - val_loss: 0.5550\n",
      "Epoch 29/200\n",
      "32/32 [==============================] - 1s 24ms/step - loss: 0.5661 - val_loss: 0.5545\n",
      "Epoch 30/200\n",
      "32/32 [==============================] - 1s 25ms/step - loss: 0.5654 - val_loss: 0.5542\n",
      "Epoch 31/200\n",
      "32/32 [==============================] - 1s 27ms/step - loss: 0.5651 - val_loss: 0.5540\n",
      "Epoch 32/200\n",
      "32/32 [==============================] - 1s 23ms/step - loss: 0.5648 - val_loss: 0.5538\n",
      "Epoch 33/200\n",
      "32/32 [==============================] - 1s 22ms/step - loss: 0.5646 - val_loss: 0.5535\n",
      "Epoch 34/200\n",
      "32/32 [==============================] - 1s 20ms/step - loss: 0.5644 - val_loss: 0.5533\n",
      "Epoch 35/200\n",
      "32/32 [==============================] - 1s 20ms/step - loss: 0.5643 - val_loss: 0.5533\n",
      "Epoch 36/200\n",
      "32/32 [==============================] - 1s 20ms/step - loss: 0.5642 - val_loss: 0.5531\n",
      "Epoch 37/200\n",
      "32/32 [==============================] - 1s 22ms/step - loss: 0.5640 - val_loss: 0.5528\n",
      "Epoch 38/200\n",
      "32/32 [==============================] - 1s 22ms/step - loss: 0.5638 - val_loss: 0.5529\n",
      "Epoch 39/200\n",
      "32/32 [==============================] - 1s 20ms/step - loss: 0.5640 - val_loss: 0.5527\n",
      "Epoch 40/200\n",
      "32/32 [==============================] - 1s 19ms/step - loss: 0.5636 - val_loss: 0.5525\n",
      "Epoch 41/200\n",
      "32/32 [==============================] - 1s 20ms/step - loss: 0.5634 - val_loss: 0.5523\n",
      "Epoch 42/200\n",
      "32/32 [==============================] - 1s 19ms/step - loss: 0.5634 - val_loss: 0.5525\n",
      "Epoch 43/200\n",
      "32/32 [==============================] - 1s 19ms/step - loss: 0.5635 - val_loss: 0.5521\n",
      "Epoch 44/200\n",
      "32/32 [==============================] - 1s 20ms/step - loss: 0.5631 - val_loss: 0.5521\n",
      "Epoch 45/200\n",
      "32/32 [==============================] - 1s 19ms/step - loss: 0.5630 - val_loss: 0.5521\n",
      "Epoch 46/200\n",
      "32/32 [==============================] - 1s 23ms/step - loss: 0.5631 - val_loss: 0.5518\n",
      "Epoch 47/200\n",
      "32/32 [==============================] - 1s 21ms/step - loss: 0.5628 - val_loss: 0.5517\n",
      "Epoch 48/200\n",
      "32/32 [==============================] - 1s 24ms/step - loss: 0.5627 - val_loss: 0.5516\n",
      "Epoch 49/200\n",
      "32/32 [==============================] - 1s 22ms/step - loss: 0.5627 - val_loss: 0.5516\n",
      "Epoch 50/200\n",
      "32/32 [==============================] - 1s 22ms/step - loss: 0.5626 - val_loss: 0.5515\n",
      "Epoch 51/200\n",
      "32/32 [==============================] - 1s 20ms/step - loss: 0.5626 - val_loss: 0.5515\n",
      "Epoch 52/200\n",
      "32/32 [==============================] - 1s 21ms/step - loss: 0.5625 - val_loss: 0.5515\n"
     ]
    }
   ],
   "source": [
    "from keras.callbacks import EarlyStopping\n",
    "\n",
    "early_stopping = EarlyStopping(monitor='val_loss', patience=2, restore_best_weights=True)\n",
    "history = autoencoder.fit(X_train, X_train, epochs=200, batch_size=128, validation_data=(X_val, X_val), shuffle=True, callbacks=[early_stopping])"
   ]
  },
  {
   "cell_type": "markdown",
   "metadata": {},
   "source": [
    "### Predict on the test set"
   ]
  },
  {
   "cell_type": "code",
   "execution_count": 7,
   "metadata": {},
   "outputs": [
    {
     "name": "stdout",
     "output_type": "stream",
     "text": [
      "42/42 [==============================] - 0s 6ms/step\n"
     ]
    }
   ],
   "source": [
    "decoded = autoencoder.predict(X_test)"
   ]
  },
  {
   "cell_type": "markdown",
   "metadata": {},
   "source": [
    "### Plot"
   ]
  },
  {
   "cell_type": "markdown",
   "metadata": {},
   "source": [
    "### Plot the losses"
   ]
  },
  {
   "cell_type": "code",
   "execution_count": 8,
   "metadata": {},
   "outputs": [
    {
     "name": "stdout",
     "output_type": "stream",
     "text": [
      "dict_keys(['loss', 'val_loss'])\n"
     ]
    },
    {
     "data": {
      "image/png": "[encoded data removed]",
      "text/plain": [
       "<Figure size 640x480 with 1 Axes>"
      ]
     },
     "metadata": {},
     "output_type": "display_data"
    }
   ],
   "source": [
    "print(history.history.keys())\n",
    "\n",
    "plt.plot(history.history['loss'])\n",
    "plt.plot(history.history['val_loss'])\n",
    "plt.title('model loss')\n",
    "plt.ylabel('loss')\n",
    "plt.xlabel('epoch')\n",
    "plt.legend(['train', 'validation'], loc='upper right')\n",
    "plt.show()"
   ]
  },
  {
   "cell_type": "code",
   "execution_count": 9,
   "metadata": {},
   "outputs": [],
   "source": [
    "from keras.models import Model\n",
    "\n",
    "#extracting encoder part from trained autoencoder\n",
    "encoder_model = Model(inputs=autoencoder.input, outputs=autoencoder.get_layer(index=2).output)  #bottleneck layer\n"
   ]
  },
  {
   "cell_type": "code",
   "execution_count": 10,
   "metadata": {},
   "outputs": [
    {
     "name": "stdout",
     "output_type": "stream",
     "text": [
      "125/125 [==============================] - 0s 3ms/step\n",
      "42/42 [==============================] - 0s 3ms/step\n",
      "42/42 [==============================] - 0s 3ms/step\n"
     ]
    }
   ],
   "source": [
    "X_train_encoded = encoder_model.predict(X_train)\n",
    "X_val_encoded = encoder_model.predict(X_val)\n",
    "X_test_encoded = encoder_model.predict(X_test)"
   ]
  },
  {
   "cell_type": "code",
   "execution_count": 11,
   "metadata": {},
   "outputs": [],
   "source": [
    "from keras.models import Sequential\n",
    "from keras.layers import Dense\n",
    "from keras.optimizers import Adam\n",
    "\n",
    "#defining a classifier using the encoded features\n",
    "classifier = Sequential([\n",
    "    Dense(3, activation=\"softmax\" ) #output layer (3 classes)\n",
    "     ])\n",
    "\n",
    "# Compile the classifier\n",
    "classifier.compile(optimizer=Adam(learning_rate=1e-4), loss='sparse_categorical_crossentropy')\n"
   ]
  },
  {
   "cell_type": "code",
   "execution_count": 12,
   "metadata": {},
   "outputs": [
    {
     "name": "stdout",
     "output_type": "stream",
     "text": [
      "Epoch 1/200\n",
      "32/32 [==============================] - 1s 8ms/step - loss: 1.3015 - val_loss: 1.1041\n",
      "Epoch 2/200\n",
      "32/32 [==============================] - 0s 3ms/step - loss: 1.0828 - val_loss: 1.0448\n",
      "Epoch 3/200\n",
      "32/32 [==============================] - 0s 3ms/step - loss: 1.0465 - val_loss: 1.0237\n",
      "Epoch 4/200\n",
      "32/32 [==============================] - 0s 4ms/step - loss: 1.0239 - val_loss: 1.0062\n",
      "Epoch 5/200\n",
      "32/32 [==============================] - 0s 3ms/step - loss: 1.0079 - val_loss: 0.9940\n",
      "Epoch 6/200\n",
      "32/32 [==============================] - 0s 4ms/step - loss: 0.9966 - val_loss: 0.9846\n",
      "Epoch 7/200\n",
      "32/32 [==============================] - 0s 4ms/step - loss: 0.9874 - val_loss: 0.9783\n",
      "Epoch 8/200\n",
      "32/32 [==============================] - 0s 4ms/step - loss: 0.9788 - val_loss: 0.9729\n",
      "Epoch 9/200\n",
      "32/32 [==============================] - 0s 3ms/step - loss: 0.9746 - val_loss: 0.9687\n",
      "Epoch 10/200\n",
      "32/32 [==============================] - 0s 3ms/step - loss: 0.9701 - val_loss: 0.9657\n",
      "Epoch 11/200\n",
      "32/32 [==============================] - 0s 3ms/step - loss: 0.9644 - val_loss: 0.9628\n",
      "Epoch 12/200\n",
      "32/32 [==============================] - 0s 3ms/step - loss: 0.9616 - val_loss: 0.9585\n",
      "Epoch 13/200\n",
      "32/32 [==============================] - 0s 3ms/step - loss: 0.9565 - val_loss: 0.9591\n",
      "Epoch 14/200\n",
      "32/32 [==============================] - 0s 3ms/step - loss: 0.9555 - val_loss: 0.9570\n",
      "Epoch 15/200\n",
      "32/32 [==============================] - 0s 3ms/step - loss: 0.9547 - val_loss: 0.9502\n",
      "Epoch 16/200\n",
      "32/32 [==============================] - 0s 3ms/step - loss: 0.9479 - val_loss: 0.9510\n",
      "Epoch 17/200\n",
      "32/32 [==============================] - 0s 3ms/step - loss: 0.9485 - val_loss: 0.9474\n",
      "Epoch 18/200\n",
      "32/32 [==============================] - 0s 3ms/step - loss: 0.9418 - val_loss: 0.9454\n",
      "Epoch 19/200\n",
      "32/32 [==============================] - 0s 3ms/step - loss: 0.9420 - val_loss: 0.9439\n",
      "Epoch 20/200\n",
      "32/32 [==============================] - 0s 4ms/step - loss: 0.9391 - val_loss: 0.9427\n",
      "Epoch 21/200\n",
      "32/32 [==============================] - 0s 4ms/step - loss: 0.9370 - val_loss: 0.9421\n",
      "Epoch 22/200\n",
      "32/32 [==============================] - 0s 4ms/step - loss: 0.9342 - val_loss: 0.9414\n",
      "Epoch 23/200\n",
      "32/32 [==============================] - 0s 4ms/step - loss: 0.9325 - val_loss: 0.9447\n",
      "Epoch 24/200\n",
      "32/32 [==============================] - 0s 4ms/step - loss: 0.9332 - val_loss: 0.9387\n",
      "Epoch 25/200\n",
      "32/32 [==============================] - 0s 4ms/step - loss: 0.9303 - val_loss: 0.9397\n",
      "Epoch 26/200\n",
      "32/32 [==============================] - 0s 3ms/step - loss: 0.9300 - val_loss: 0.9390\n",
      "Epoch 27/200\n",
      "32/32 [==============================] - 0s 3ms/step - loss: 0.9283 - val_loss: 0.9373\n",
      "Epoch 28/200\n",
      "32/32 [==============================] - 0s 3ms/step - loss: 0.9306 - val_loss: 0.9384\n",
      "Epoch 29/200\n",
      "32/32 [==============================] - 0s 3ms/step - loss: 0.9259 - val_loss: 0.9376\n",
      "Epoch 30/200\n",
      "32/32 [==============================] - 0s 3ms/step - loss: 0.9254 - val_loss: 0.9362\n",
      "Epoch 31/200\n",
      "32/32 [==============================] - 0s 4ms/step - loss: 0.9291 - val_loss: 0.9413\n",
      "Epoch 32/200\n",
      "32/32 [==============================] - 0s 4ms/step - loss: 0.9252 - val_loss: 0.9411\n",
      "Epoch 33/200\n",
      "32/32 [==============================] - 0s 5ms/step - loss: 0.9282 - val_loss: 0.9348\n",
      "Epoch 34/200\n",
      "32/32 [==============================] - 0s 4ms/step - loss: 0.9242 - val_loss: 0.9371\n",
      "Epoch 35/200\n",
      "32/32 [==============================] - 0s 4ms/step - loss: 0.9232 - val_loss: 0.9369\n",
      "Epoch 36/200\n",
      "32/32 [==============================] - 0s 3ms/step - loss: 0.9231 - val_loss: 0.9365\n",
      "Epoch 37/200\n",
      "32/32 [==============================] - 0s 3ms/step - loss: 0.9242 - val_loss: 0.9400\n",
      "Epoch 38/200\n",
      "32/32 [==============================] - 0s 3ms/step - loss: 0.9231 - val_loss: 0.9341\n",
      "Epoch 39/200\n",
      "32/32 [==============================] - 0s 4ms/step - loss: 0.9223 - val_loss: 0.9341\n",
      "Epoch 40/200\n",
      "32/32 [==============================] - 0s 5ms/step - loss: 0.9200 - val_loss: 0.9356\n",
      "Epoch 41/200\n",
      "32/32 [==============================] - 0s 4ms/step - loss: 0.9218 - val_loss: 0.9341\n",
      "Epoch 42/200\n",
      "32/32 [==============================] - 0s 4ms/step - loss: 0.9176 - val_loss: 0.9342\n",
      "Epoch 43/200\n",
      "32/32 [==============================] - 0s 4ms/step - loss: 0.9186 - val_loss: 0.9367\n",
      "Epoch 44/200\n",
      "32/32 [==============================] - 0s 4ms/step - loss: 0.9175 - val_loss: 0.9349\n"
     ]
    }
   ],
   "source": [
    "\n",
    "\n",
    "\n",
    "#compute class weights\n",
    "#class_weights = compute_class_weight(\"balanced\", classes=np.unique(y_train), y=y_train)\n",
    "#class_weights_dict = {i: class_weights[i] for i in range(len(class_weights))} improves performance in classes 0 and 2 but lowers the performance\n",
    "#print(\"class Weights:\", class_weights_dict)\n",
    "# Train classifier\n",
    "early_stopping = EarlyStopping(monitor='val_loss', patience=5, restore_best_weights=True) \n",
    "history=classifier.fit(X_train_encoded, y_train, epochs=200, batch_size=128, validation_data=(X_val_encoded, y_val), shuffle=True, callbacks=[early_stopping], )\n",
    "\n"
   ]
  },
  {
   "cell_type": "code",
   "execution_count": 13,
   "metadata": {},
   "outputs": [
    {
     "name": "stdout",
     "output_type": "stream",
     "text": [
      "dict_keys(['loss', 'val_loss'])\n"
     ]
    },
    {
     "data": {
      "image/png": "[encoded data removed]",
      "text/plain": [
       "<Figure size 640x480 with 1 Axes>"
      ]
     },
     "metadata": {},
     "output_type": "display_data"
    }
   ],
   "source": [
    "print(history.history.keys())\n",
    "\n",
    "plt.plot(history.history['loss'])\n",
    "plt.plot(history.history['val_loss'])\n",
    "plt.title('model loss')\n",
    "plt.ylabel('loss')\n",
    "plt.xlabel('epoch')\n",
    "plt.legend(['train', 'validation'], loc='upper right')\n",
    "plt.show()"
   ]
  },
  {
   "cell_type": "code",
   "execution_count": 14,
   "metadata": {},
   "outputs": [
    {
     "name": "stdout",
     "output_type": "stream",
     "text": [
      "42/42 [==============================] - 0s 1ms/step\n",
      "              precision    recall  f1-score   support\n",
      "\n",
      "           0     0.3505    0.1021    0.1581       333\n",
      "           1     0.5990    0.8114    0.6892       615\n",
      "           2     0.5660    0.5931    0.5792       376\n",
      "\n",
      "    accuracy                         0.5710      1324\n",
      "   macro avg     0.5052    0.5022    0.4755      1324\n",
      "weighted avg     0.5271    0.5710    0.5244      1324\n",
      "\n"
     ]
    }
   ],
   "source": [
    "from sklearn.metrics import classification_report\n",
    "\n",
    "\n",
    "y_pred_prob = classifier.predict(X_test_encoded)\n",
    "\n",
    "#converting to class labels\n",
    "y_pred = y_pred_prob.argmax(axis=1)  #getting class with highest probability\n",
    "\n",
    "print(classification_report(y_test, y_pred, digits=4))\n"
   ]
  },
  {
   "cell_type": "markdown",
   "metadata": {},
   "source": [
    "---"
   ]
  },
  {
   "cell_type": "markdown",
   "metadata": {},
   "source": [
    "# **Multilayer autoencoder**"
   ]
  },
  {
   "cell_type": "markdown",
   "metadata": {},
   "source": [
    "trying 2 layers "
   ]
  },
  {
   "cell_type": "code",
   "execution_count": 78,
   "metadata": {},
   "outputs": [],
   "source": [
    "input_size = 70\n",
    "hidden_size1= 1000\n",
    "hidden_size2= 1000\n",
    "bottleneck_size= 1000\n",
    "output_size = 70\n",
    "\n",
    "input_layer = Input(shape=(input_size,))\n",
    "encoder = Dense(hidden_size1, activation=\"relu\")(input_layer)\n",
    "encoder = Dense(hidden_size2, activation=\"relu\")(encoder)\n",
    "bottleneck = Dense(bottleneck_size, activation=\"relu\")(encoder)  \n",
    "\n",
    "\n",
    "decoder = Dense(hidden_size2, activation=\"relu\")(bottleneck)\n",
    "decoder = Dense(hidden_size1, activation=\"relu\")(decoder)\n",
    "output_layer = Dense(output_size, activation=\"sigmoid\")(decoder) \n",
    "\n",
    "autoencoder2 = Model(inputs=input_layer, outputs=output_layer)\n",
    "autoencoder2.compile(Adam(learning_rate=1e-4), loss='mse')"
   ]
  },
  {
   "cell_type": "markdown",
   "metadata": {},
   "source": [
    "### Train the network"
   ]
  },
  {
   "cell_type": "code",
   "execution_count": 79,
   "metadata": {},
   "outputs": [
    {
     "name": "stdout",
     "output_type": "stream",
     "text": [
      "Epoch 1/200\n",
      "32/32 [==============================] - 2s 44ms/step - loss: 1.0273 - val_loss: 0.7661\n",
      "Epoch 2/200\n",
      "32/32 [==============================] - 1s 38ms/step - loss: 0.7195 - val_loss: 0.6777\n",
      "Epoch 3/200\n",
      "32/32 [==============================] - 1s 39ms/step - loss: 0.6806 - val_loss: 0.6616\n",
      "Epoch 4/200\n",
      "32/32 [==============================] - 1s 38ms/step - loss: 0.6610 - val_loss: 0.6397\n",
      "Epoch 5/200\n",
      "32/32 [==============================] - 1s 41ms/step - loss: 0.6404 - val_loss: 0.6216\n",
      "Epoch 6/200\n",
      "32/32 [==============================] - 1s 40ms/step - loss: 0.6248 - val_loss: 0.6083\n",
      "Epoch 7/200\n",
      "32/32 [==============================] - 1s 40ms/step - loss: 0.6123 - val_loss: 0.5982\n",
      "Epoch 8/200\n",
      "32/32 [==============================] - 1s 40ms/step - loss: 0.6044 - val_loss: 0.5907\n",
      "Epoch 9/200\n",
      "32/32 [==============================] - 1s 42ms/step - loss: 0.5982 - val_loss: 0.5863\n",
      "Epoch 10/200\n",
      "32/32 [==============================] - 1s 38ms/step - loss: 0.5946 - val_loss: 0.5855\n",
      "Epoch 11/200\n",
      "32/32 [==============================] - 1s 40ms/step - loss: 0.5933 - val_loss: 0.5816\n",
      "Epoch 12/200\n",
      "32/32 [==============================] - 1s 40ms/step - loss: 0.5906 - val_loss: 0.5800\n",
      "Epoch 13/200\n",
      "32/32 [==============================] - 1s 41ms/step - loss: 0.5889 - val_loss: 0.5772\n",
      "Epoch 14/200\n",
      "32/32 [==============================] - 2s 47ms/step - loss: 0.5871 - val_loss: 0.5749\n",
      "Epoch 15/200\n",
      "32/32 [==============================] - 2s 47ms/step - loss: 0.5823 - val_loss: 0.5699\n",
      "Epoch 16/200\n",
      "32/32 [==============================] - 1s 43ms/step - loss: 0.5797 - val_loss: 0.5675\n",
      "Epoch 17/200\n",
      "32/32 [==============================] - 1s 41ms/step - loss: 0.5772 - val_loss: 0.5662\n",
      "Epoch 18/200\n",
      "32/32 [==============================] - 1s 38ms/step - loss: 0.5761 - val_loss: 0.5657\n",
      "Epoch 19/200\n",
      "32/32 [==============================] - 1s 47ms/step - loss: 0.5756 - val_loss: 0.5649\n",
      "Epoch 20/200\n",
      "32/32 [==============================] - 1s 43ms/step - loss: 0.5750 - val_loss: 0.5648\n",
      "Epoch 21/200\n",
      "32/32 [==============================] - 1s 42ms/step - loss: 0.5749 - val_loss: 0.5636\n",
      "Epoch 22/200\n",
      "32/32 [==============================] - 1s 39ms/step - loss: 0.5737 - val_loss: 0.5631\n",
      "Epoch 23/200\n",
      "32/32 [==============================] - 1s 40ms/step - loss: 0.5734 - val_loss: 0.5633\n",
      "Epoch 24/200\n",
      "32/32 [==============================] - 1s 41ms/step - loss: 0.5733 - val_loss: 0.5626\n",
      "Epoch 25/200\n",
      "32/32 [==============================] - 1s 40ms/step - loss: 0.5728 - val_loss: 0.5635\n",
      "Epoch 26/200\n",
      "32/32 [==============================] - 1s 42ms/step - loss: 0.5728 - val_loss: 0.5623\n",
      "Epoch 27/200\n",
      "32/32 [==============================] - 1s 40ms/step - loss: 0.5724 - val_loss: 0.5622\n",
      "Epoch 28/200\n",
      "32/32 [==============================] - 1s 41ms/step - loss: 0.5721 - val_loss: 0.5618\n",
      "Epoch 29/200\n",
      "32/32 [==============================] - 1s 42ms/step - loss: 0.5718 - val_loss: 0.5612\n",
      "Epoch 30/200\n",
      "32/32 [==============================] - 1s 41ms/step - loss: 0.5714 - val_loss: 0.5631\n",
      "Epoch 31/200\n",
      "32/32 [==============================] - 1s 41ms/step - loss: 0.5718 - val_loss: 0.5616\n"
     ]
    }
   ],
   "source": [
    "early_stopping = EarlyStopping(monitor='val_loss', patience=2, restore_best_weights=True)\n",
    "history = autoencoder2.fit(X_train, X_train, batch_size=128, epochs=200, verbose=1, validation_data=(X_val, X_val), shuffle=True,callbacks=[early_stopping])"
   ]
  },
  {
   "cell_type": "markdown",
   "metadata": {},
   "source": [
    "### Predict on the test set"
   ]
  },
  {
   "cell_type": "code",
   "execution_count": 80,
   "metadata": {},
   "outputs": [
    {
     "name": "stdout",
     "output_type": "stream",
     "text": [
      "42/42 [==============================] - 1s 10ms/step\n"
     ]
    }
   ],
   "source": [
    "decoded_output= autoencoder2.predict(X_test)"
   ]
  },
  {
   "cell_type": "markdown",
   "metadata": {},
   "source": [
    "### Plot the losses"
   ]
  },
  {
   "cell_type": "code",
   "execution_count": 81,
   "metadata": {},
   "outputs": [
    {
     "name": "stdout",
     "output_type": "stream",
     "text": [
      "dict_keys(['loss', 'val_loss'])\n"
     ]
    },
    {
     "data": {
      "image/png": "[encoded data removed]",
      "text/plain": [
       "<Figure size 640x480 with 1 Axes>"
      ]
     },
     "metadata": {},
     "output_type": "display_data"
    }
   ],
   "source": [
    "print(history.history.keys())\n",
    "\n",
    "plt.plot(history.history['loss'])\n",
    "plt.plot(history.history['val_loss'])\n",
    "plt.title('model loss')\n",
    "plt.ylabel('loss')\n",
    "plt.xlabel('epoch')\n",
    "plt.legend(['train', 'validation'], loc='upper right')\n",
    "plt.show()"
   ]
  },
  {
   "cell_type": "code",
   "execution_count": 82,
   "metadata": {},
   "outputs": [],
   "source": [
    "encoder_model = Model(inputs=autoencoder2.input, outputs=autoencoder2.get_layer(index=3).output)  #bottleneck layer"
   ]
  },
  {
   "cell_type": "code",
   "execution_count": 83,
   "metadata": {},
   "outputs": [
    {
     "name": "stdout",
     "output_type": "stream",
     "text": [
      "125/125 [==============================] - 1s 8ms/step\n",
      "42/42 [==============================] - 0s 6ms/step\n",
      "42/42 [==============================] - 0s 5ms/step\n"
     ]
    }
   ],
   "source": [
    "X_train_encoded = encoder_model.predict(X_train)\n",
    "X_val_encoded = encoder_model.predict(X_val)\n",
    "X_test_encoded = encoder_model.predict(X_test)"
   ]
  },
  {
   "cell_type": "code",
   "execution_count": 84,
   "metadata": {},
   "outputs": [],
   "source": [
    "#defining a classifier using the encoded features\n",
    "classifier = Sequential([\n",
    "    Dense(3, activation=\"softmax\")  #output layer (3 classes)\n",
    "])\n",
    "\n",
    "# Compile the classifier\n",
    "classifier.compile(optimizer=Adam(learning_rate=1e-4), loss='sparse_categorical_crossentropy')\n"
   ]
  },
  {
   "cell_type": "code",
   "execution_count": 85,
   "metadata": {},
   "outputs": [
    {
     "name": "stdout",
     "output_type": "stream",
     "text": [
      "Epoch 1/200\n",
      "32/32 [==============================] - 0s 6ms/step - loss: 1.2656 - val_loss: 1.1518\n",
      "Epoch 2/200\n",
      "32/32 [==============================] - 0s 3ms/step - loss: 1.1309 - val_loss: 1.0818\n",
      "Epoch 3/200\n",
      "32/32 [==============================] - 0s 3ms/step - loss: 1.0683 - val_loss: 1.0411\n",
      "Epoch 4/200\n",
      "32/32 [==============================] - 0s 3ms/step - loss: 1.0316 - val_loss: 1.0214\n",
      "Epoch 5/200\n",
      "32/32 [==============================] - 0s 4ms/step - loss: 1.0101 - val_loss: 1.0028\n",
      "Epoch 6/200\n",
      "32/32 [==============================] - 0s 4ms/step - loss: 0.9942 - val_loss: 0.9903\n",
      "Epoch 7/200\n",
      "32/32 [==============================] - 0s 4ms/step - loss: 0.9828 - val_loss: 0.9829\n",
      "Epoch 8/200\n",
      "32/32 [==============================] - 0s 3ms/step - loss: 0.9707 - val_loss: 0.9767\n",
      "Epoch 9/200\n",
      "32/32 [==============================] - 0s 3ms/step - loss: 0.9630 - val_loss: 0.9682\n",
      "Epoch 10/200\n",
      "32/32 [==============================] - 0s 3ms/step - loss: 0.9616 - val_loss: 0.9637\n",
      "Epoch 11/200\n",
      "32/32 [==============================] - 0s 3ms/step - loss: 0.9518 - val_loss: 0.9587\n",
      "Epoch 12/200\n",
      "32/32 [==============================] - 0s 3ms/step - loss: 0.9486 - val_loss: 0.9579\n",
      "Epoch 13/200\n",
      "32/32 [==============================] - 0s 3ms/step - loss: 0.9434 - val_loss: 0.9584\n",
      "Epoch 14/200\n",
      "32/32 [==============================] - 0s 3ms/step - loss: 0.9425 - val_loss: 0.9511\n",
      "Epoch 15/200\n",
      "32/32 [==============================] - 0s 3ms/step - loss: 0.9379 - val_loss: 0.9484\n",
      "Epoch 16/200\n",
      "32/32 [==============================] - 0s 3ms/step - loss: 0.9377 - val_loss: 0.9476\n",
      "Epoch 17/200\n",
      "32/32 [==============================] - 0s 3ms/step - loss: 0.9333 - val_loss: 0.9471\n",
      "Epoch 18/200\n",
      "32/32 [==============================] - 0s 3ms/step - loss: 0.9315 - val_loss: 0.9472\n",
      "Epoch 19/200\n",
      "32/32 [==============================] - 0s 3ms/step - loss: 0.9335 - val_loss: 0.9460\n",
      "Epoch 20/200\n",
      "32/32 [==============================] - 0s 3ms/step - loss: 0.9322 - val_loss: 0.9506\n",
      "Epoch 21/200\n",
      "32/32 [==============================] - 0s 3ms/step - loss: 0.9311 - val_loss: 0.9421\n",
      "Epoch 22/200\n",
      "32/32 [==============================] - 0s 3ms/step - loss: 0.9283 - val_loss: 0.9417\n",
      "Epoch 23/200\n",
      "32/32 [==============================] - 0s 4ms/step - loss: 0.9256 - val_loss: 0.9416\n",
      "Epoch 24/200\n",
      "32/32 [==============================] - 0s 4ms/step - loss: 0.9243 - val_loss: 0.9403\n",
      "Epoch 25/200\n",
      "32/32 [==============================] - 0s 3ms/step - loss: 0.9249 - val_loss: 0.9492\n",
      "Epoch 26/200\n",
      "32/32 [==============================] - 0s 4ms/step - loss: 0.9247 - val_loss: 0.9450\n"
     ]
    }
   ],
   "source": [
    "\n",
    "#compute class weights\n",
    "#class_weights = compute_class_weight(\"balanced\", classes=np.unique(y_train), y=y_train)\n",
    "#class_weights_dict = {i: class_weights[i] for i in range(len(class_weights))} improves performance in classes 0 and 2 but lowers the performance\n",
    "#print(\"class Weights:\", class_weights_dict)\n",
    "# Train classifier\n",
    "early_stopping = EarlyStopping(monitor='val_loss', patience=2, restore_best_weights=True) \n",
    "history=classifier.fit(X_train_encoded, y_train, epochs=200, batch_size=128, validation_data=(X_val_encoded, y_val), shuffle = True,callbacks=[early_stopping])\n",
    "\n"
   ]
  },
  {
   "cell_type": "markdown",
   "metadata": {},
   "source": [
    "# plot"
   ]
  },
  {
   "cell_type": "code",
   "execution_count": 86,
   "metadata": {},
   "outputs": [
    {
     "name": "stdout",
     "output_type": "stream",
     "text": [
      "dict_keys(['loss', 'val_loss'])\n"
     ]
    },
    {
     "data": {
      "image/png": "[encoded data removed]",
      "text/plain": [
       "<Figure size 640x480 with 1 Axes>"
      ]
     },
     "metadata": {},
     "output_type": "display_data"
    }
   ],
   "source": [
    "print(history.history.keys())\n",
    "\n",
    "plt.plot(history.history['loss'])\n",
    "plt.plot(history.history['val_loss'])\n",
    "plt.title('model loss')\n",
    "plt.ylabel('loss')\n",
    "plt.xlabel('epoch')\n",
    "plt.legend(['train', 'validation'], loc='upper right')\n",
    "plt.show()"
   ]
  },
  {
   "cell_type": "code",
   "execution_count": 87,
   "metadata": {},
   "outputs": [
    {
     "name": "stdout",
     "output_type": "stream",
     "text": [
      "42/42 [==============================] - 0s 1ms/step\n",
      "              precision    recall  f1-score   support\n",
      "\n",
      "           0     0.3211    0.1051    0.1584       333\n",
      "           1     0.5908    0.7935    0.6773       615\n",
      "           2     0.5656    0.5851    0.5752       376\n",
      "\n",
      "    accuracy                         0.5612      1324\n",
      "   macro avg     0.4925    0.4946    0.4703      1324\n",
      "weighted avg     0.5158    0.5612    0.5178      1324\n",
      "\n"
     ]
    }
   ],
   "source": [
    "from sklearn.metrics import classification_report\n",
    "\n",
    "\n",
    "y_pred_prob = classifier.predict(X_test_encoded)\n",
    "\n",
    "#converting to class labels\n",
    "y_pred = y_pred_prob.argmax(axis=1)  #getting class with highest probability\n",
    "\n",
    "print(classification_report(y_test, y_pred, digits=4))"
   ]
  },
  {
   "cell_type": "markdown",
   "metadata": {},
   "source": [
    "# Trying 3 layers"
   ]
  },
  {
   "cell_type": "code",
   "execution_count": 96,
   "metadata": {},
   "outputs": [],
   "source": [
    "\n",
    "input_size = 70\n",
    "hidden_size1 = 1000\n",
    "hidden_size2 = 1000\n",
    "hidden_size3 = 1000\n",
    "bottleneck_size = 1000\n",
    "output_size = 70\n",
    "\n",
    "input_layer = Input(shape=(input_size,))\n",
    "\n",
    "\n",
    "encoder = Dense(hidden_size1, activation=\"relu\")(input_layer)\n",
    "encoder = Dense(hidden_size2, activation=\"relu\")(encoder)\n",
    "encoder = Dense(hidden_size3, activation=\"relu\")(encoder)\n",
    "bottleneck = Dense(bottleneck_size, activation=\"relu\")(encoder)  # Bottleneck layer\n",
    "\n",
    "#decoder with 3 hidden layers\n",
    "decoder = Dense(hidden_size3, activation=\"relu\")(bottleneck)\n",
    "decoder = Dense(hidden_size2, activation=\"relu\")(decoder)\n",
    "decoder = Dense(hidden_size1, activation=\"relu\")(decoder)\n",
    "output_layer = Dense(output_size, activation=\"sigmoid\")(decoder)  # Final output layer\n",
    "\n",
    "#defining the Autoencoder model\n",
    "autoencoder3 = Model(inputs=input_layer, outputs=output_layer)\n",
    "\n",
    "#compile the model\n",
    "autoencoder3.compile(optimizer=Adam(learning_rate=1e-4), loss='mse')\n"
   ]
  },
  {
   "cell_type": "code",
   "execution_count": 97,
   "metadata": {},
   "outputs": [
    {
     "name": "stdout",
     "output_type": "stream",
     "text": [
      "Epoch 1/200\n",
      "32/32 [==============================] - 3s 61ms/step - loss: 1.0227 - val_loss: 0.7793\n",
      "Epoch 2/200\n",
      "32/32 [==============================] - 2s 58ms/step - loss: 0.7379 - val_loss: 0.6941\n",
      "Epoch 3/200\n",
      "32/32 [==============================] - 2s 62ms/step - loss: 0.7005 - val_loss: 0.6828\n",
      "Epoch 4/200\n",
      "32/32 [==============================] - 2s 63ms/step - loss: 0.6896 - val_loss: 0.6691\n",
      "Epoch 5/200\n",
      "32/32 [==============================] - 2s 63ms/step - loss: 0.6737 - val_loss: 0.6602\n",
      "Epoch 6/200\n",
      "32/32 [==============================] - 2s 61ms/step - loss: 0.6615 - val_loss: 0.6452\n",
      "Epoch 7/200\n",
      "32/32 [==============================] - 2s 57ms/step - loss: 0.6480 - val_loss: 0.6285\n",
      "Epoch 8/200\n",
      "32/32 [==============================] - 2s 56ms/step - loss: 0.6310 - val_loss: 0.6120\n",
      "Epoch 9/200\n",
      "32/32 [==============================] - 2s 57ms/step - loss: 0.6172 - val_loss: 0.6022\n",
      "Epoch 10/200\n",
      "32/32 [==============================] - 2s 54ms/step - loss: 0.6091 - val_loss: 0.5976\n",
      "Epoch 11/200\n",
      "32/32 [==============================] - 2s 53ms/step - loss: 0.6047 - val_loss: 0.5922\n",
      "Epoch 12/200\n",
      "32/32 [==============================] - 2s 54ms/step - loss: 0.5999 - val_loss: 0.5880\n",
      "Epoch 13/200\n",
      "32/32 [==============================] - 2s 53ms/step - loss: 0.5977 - val_loss: 0.5864\n",
      "Epoch 14/200\n",
      "32/32 [==============================] - 2s 53ms/step - loss: 0.5949 - val_loss: 0.5964\n",
      "Epoch 15/200\n",
      "32/32 [==============================] - 2s 54ms/step - loss: 0.5970 - val_loss: 0.5854\n",
      "Epoch 16/200\n",
      "32/32 [==============================] - 2s 55ms/step - loss: 0.5944 - val_loss: 0.5843\n",
      "Epoch 17/200\n",
      "32/32 [==============================] - 2s 62ms/step - loss: 0.5929 - val_loss: 0.5811\n",
      "Epoch 18/200\n",
      "32/32 [==============================] - 2s 54ms/step - loss: 0.5913 - val_loss: 0.5815\n",
      "Epoch 19/200\n",
      "32/32 [==============================] - 2s 54ms/step - loss: 0.5910 - val_loss: 0.5818\n"
     ]
    }
   ],
   "source": [
    "early_stopping = EarlyStopping(monitor='val_loss', patience=2, restore_best_weights=True)\n",
    "history = autoencoder3.fit(X_train, X_train, batch_size=128, epochs=200, verbose=1, validation_data=(X_val, X_val), shuffle=True,callbacks=[early_stopping])"
   ]
  },
  {
   "cell_type": "markdown",
   "metadata": {},
   "source": [
    "# Plot"
   ]
  },
  {
   "cell_type": "code",
   "execution_count": 98,
   "metadata": {},
   "outputs": [
    {
     "name": "stdout",
     "output_type": "stream",
     "text": [
      "dict_keys(['loss', 'val_loss'])\n"
     ]
    },
    {
     "data": {
      "image/png": "[encoded data removed]",
      "text/plain": [
       "<Figure size 640x480 with 1 Axes>"
      ]
     },
     "metadata": {},
     "output_type": "display_data"
    }
   ],
   "source": [
    "print(history.history.keys())\n",
    "\n",
    "plt.plot(history.history['loss'])\n",
    "plt.plot(history.history['val_loss'])\n",
    "plt.title('model loss')\n",
    "plt.ylabel('loss')\n",
    "plt.xlabel('epoch')\n",
    "plt.legend(['train', 'validation'], loc='upper right')\n",
    "plt.show()"
   ]
  },
  {
   "cell_type": "markdown",
   "metadata": {},
   "source": [
    "# Classification"
   ]
  },
  {
   "cell_type": "code",
   "execution_count": 99,
   "metadata": {},
   "outputs": [],
   "source": [
    "encoder_model = Model(inputs=autoencoder3.input, outputs=autoencoder3.get_layer(index=4).output)"
   ]
  },
  {
   "cell_type": "code",
   "execution_count": 100,
   "metadata": {},
   "outputs": [
    {
     "name": "stdout",
     "output_type": "stream",
     "text": [
      "125/125 [==============================] - 1s 7ms/step\n",
      "42/42 [==============================] - 0s 7ms/step\n",
      "42/42 [==============================] - 0s 7ms/step\n"
     ]
    }
   ],
   "source": [
    "X_train_encoded = encoder_model.predict(X_train)\n",
    "X_val_encoded = encoder_model.predict(X_val)\n",
    "X_test_encoded = encoder_model.predict(X_test)"
   ]
  },
  {
   "cell_type": "code",
   "execution_count": 101,
   "metadata": {},
   "outputs": [],
   "source": [
    "\n",
    "classifier = Sequential([\n",
    "    Dense(3, activation=\"softmax\")  #output layer (3 classes)\n",
    "])\n",
    "\n",
    "#compiling the classifier\n",
    "classifier.compile(optimizer=Adam(learning_rate=1e-4), loss='sparse_categorical_crossentropy')\n"
   ]
  },
  {
   "cell_type": "code",
   "execution_count": 102,
   "metadata": {},
   "outputs": [
    {
     "name": "stdout",
     "output_type": "stream",
     "text": [
      "Epoch 1/200\n",
      "32/32 [==============================] - 1s 8ms/step - loss: 1.2101 - val_loss: 1.1146\n",
      "Epoch 2/200\n",
      "32/32 [==============================] - 0s 4ms/step - loss: 1.0873 - val_loss: 1.0749\n",
      "Epoch 3/200\n",
      "32/32 [==============================] - 0s 4ms/step - loss: 1.0471 - val_loss: 1.0444\n",
      "Epoch 4/200\n",
      "32/32 [==============================] - 0s 4ms/step - loss: 1.0190 - val_loss: 1.0225\n",
      "Epoch 5/200\n",
      "32/32 [==============================] - 0s 4ms/step - loss: 1.0006 - val_loss: 1.0071\n",
      "Epoch 6/200\n",
      "32/32 [==============================] - 0s 4ms/step - loss: 0.9836 - val_loss: 0.9972\n",
      "Epoch 7/200\n",
      "32/32 [==============================] - 0s 4ms/step - loss: 0.9743 - val_loss: 0.9872\n",
      "Epoch 8/200\n",
      "32/32 [==============================] - 0s 3ms/step - loss: 0.9665 - val_loss: 0.9843\n",
      "Epoch 9/200\n",
      "32/32 [==============================] - 0s 4ms/step - loss: 0.9571 - val_loss: 0.9740\n",
      "Epoch 10/200\n",
      "32/32 [==============================] - 0s 4ms/step - loss: 0.9512 - val_loss: 0.9673\n",
      "Epoch 11/200\n",
      "32/32 [==============================] - 0s 4ms/step - loss: 0.9449 - val_loss: 0.9646\n",
      "Epoch 12/200\n",
      "32/32 [==============================] - 0s 4ms/step - loss: 0.9439 - val_loss: 0.9612\n",
      "Epoch 13/200\n",
      "32/32 [==============================] - 0s 4ms/step - loss: 0.9383 - val_loss: 0.9568\n",
      "Epoch 14/200\n",
      "32/32 [==============================] - 0s 4ms/step - loss: 0.9363 - val_loss: 0.9549\n",
      "Epoch 15/200\n",
      "32/32 [==============================] - 0s 4ms/step - loss: 0.9346 - val_loss: 0.9560\n",
      "Epoch 16/200\n",
      "32/32 [==============================] - 0s 4ms/step - loss: 0.9335 - val_loss: 0.9598\n"
     ]
    }
   ],
   "source": [
    "early_stopping = EarlyStopping(monitor='val_loss', patience=2, restore_best_weights=True)\n",
    "history=classifier.fit(X_train_encoded, y_train, epochs=200, batch_size=128, validation_data=(X_val_encoded, y_val), shuffle = True,callbacks=[early_stopping])\n"
   ]
  },
  {
   "cell_type": "markdown",
   "metadata": {},
   "source": [
    "# Plot"
   ]
  },
  {
   "cell_type": "code",
   "execution_count": 103,
   "metadata": {},
   "outputs": [
    {
     "name": "stdout",
     "output_type": "stream",
     "text": [
      "dict_keys(['loss', 'val_loss'])\n"
     ]
    },
    {
     "data": {
      "image/png": "[encoded data removed]",
      "text/plain": [
       "<Figure size 640x480 with 1 Axes>"
      ]
     },
     "metadata": {},
     "output_type": "display_data"
    }
   ],
   "source": [
    "print(history.history.keys())\n",
    "\n",
    "plt.plot(history.history['loss'])\n",
    "plt.plot(history.history['val_loss'])\n",
    "plt.title('model loss')\n",
    "plt.ylabel('loss')\n",
    "plt.xlabel('epoch')\n",
    "plt.legend(['train', 'validation'], loc='upper right')\n",
    "plt.show()"
   ]
  },
  {
   "cell_type": "markdown",
   "metadata": {},
   "source": [
    "# Test"
   ]
  },
  {
   "cell_type": "code",
   "execution_count": 104,
   "metadata": {},
   "outputs": [
    {
     "name": "stdout",
     "output_type": "stream",
     "text": [
      "42/42 [==============================] - 0s 1ms/step\n",
      "              precision    recall  f1-score   support\n",
      "\n",
      "           0     0.3673    0.0541    0.0942       333\n",
      "           1     0.5805    0.8211    0.6801       615\n",
      "           2     0.5185    0.5585    0.5378       376\n",
      "\n",
      "    accuracy                         0.5536      1324\n",
      "   macro avg     0.4888    0.4779    0.4374      1324\n",
      "weighted avg     0.5093    0.5536    0.4923      1324\n",
      "\n"
     ]
    }
   ],
   "source": [
    "from sklearn.metrics import classification_report\n",
    "\n",
    "\n",
    "y_pred_prob = classifier.predict(X_test_encoded)\n",
    "\n",
    "#converting to class labels\n",
    "y_pred = y_pred_prob.argmax(axis=1)  #getting class with highest probability\n",
    "\n",
    "print(classification_report(y_test, y_pred, digits=4))"
   ]
  },
  {
   "cell_type": "code",
   "execution_count": null,
   "metadata": {},
   "outputs": [],
   "source": [
    "#############################################################################################################################################################################################"
   ]
  },
  {
   "cell_type": "markdown",
   "metadata": {},
   "source": [
    "# SMOTE with Simple Autoencoder\n",
    "you need to run the import cell and the first cell at the beginning then run the cell below for preprocessing \n"
   ]
  },
  {
   "cell_type": "code",
   "execution_count": 65,
   "metadata": {},
   "outputs": [
    {
     "name": "stdout",
     "output_type": "stream",
     "text": [
      "Original class distribution: Counter({1: 1846, 2: 1126, 0: 1000})\n",
      "Resampled class distribution: Counter({0: 1846, 1: 1846, 2: 1126})\n"
     ]
    }
   ],
   "source": [
    "from imblearn.over_sampling import SMOTE\n",
    "from sklearn.preprocessing import StandardScaler\n",
    "from collections import Counter\n",
    "import numpy as np\n",
    "\n",
    "\n",
    "print(\"Original class distribution:\", Counter(y_train))\n",
    "\n",
    "#apply only on minority which is class 0\n",
    "smote = SMOTE(sampling_strategy='minority', random_state=42) \n",
    "X_train_resampled, y_train_resampled = smote.fit_resample(X_train, y_train)\n",
    "\n",
    "# class distribution after SMOTE\n",
    "print(\"Resampled class distribution:\", Counter(y_train_resampled))\n",
    "\n",
    "\n",
    "\n",
    "scaler = StandardScaler()\n",
    "scaler.fit(X_train_resampled)\n",
    "\n",
    "X_train_resampled = scaler.transform(X_train_resampled)\n",
    "X_val = scaler.transform(X_val)\n",
    "X_test = scaler.transform(X_test)\n"
   ]
  },
  {
   "cell_type": "code",
   "execution_count": 66,
   "metadata": {},
   "outputs": [],
   "source": [
    "input_size = 70\n",
    "hidden_size = 1000\n",
    "bottleneck_size = 1000 \n",
    "output_size = 70"
   ]
  },
  {
   "cell_type": "code",
   "execution_count": 67,
   "metadata": {},
   "outputs": [],
   "source": [
    "\n",
    "input_layer = Input(shape=(input_size,))\n",
    "\n",
    "encoder = Dense(hidden_size, activation=\"relu\")(input_layer)\n",
    "\n",
    "\n",
    "bottleneck = Dense(bottleneck_size, activation=\"relu\")(encoder) \n",
    "\n",
    "\n",
    "decoder = Dense(hidden_size, activation=\"relu\")(bottleneck)\n",
    "\n",
    "output_layer = Dense(input_size, activation=\"sigmoid\")(decoder)  \n",
    "\n",
    "autoencoder = Model(inputs=input_layer, outputs=output_layer)\n",
    "autoencoder.compile(optimizer=Adam(learning_rate=1e-4), loss='mse')"
   ]
  },
  {
   "cell_type": "code",
   "execution_count": 68,
   "metadata": {},
   "outputs": [
    {
     "name": "stdout",
     "output_type": "stream",
     "text": [
      "Epoch 1/200\n",
      "38/38 [==============================] - 2s 28ms/step - loss: 1.0097 - val_loss: 0.7945\n",
      "Epoch 2/200\n",
      "38/38 [==============================] - 1s 23ms/step - loss: 0.7135 - val_loss: 0.6947\n",
      "Epoch 3/200\n",
      "38/38 [==============================] - 1s 21ms/step - loss: 0.6598 - val_loss: 0.6564\n",
      "Epoch 4/200\n",
      "38/38 [==============================] - 1s 22ms/step - loss: 0.6294 - val_loss: 0.6306\n",
      "Epoch 5/200\n",
      "38/38 [==============================] - 1s 21ms/step - loss: 0.6097 - val_loss: 0.6141\n",
      "Epoch 6/200\n",
      "38/38 [==============================] - 1s 22ms/step - loss: 0.5971 - val_loss: 0.6040\n",
      "Epoch 7/200\n",
      "38/38 [==============================] - 1s 21ms/step - loss: 0.5893 - val_loss: 0.5974\n",
      "Epoch 8/200\n",
      "38/38 [==============================] - 1s 22ms/step - loss: 0.5840 - val_loss: 0.5930\n",
      "Epoch 9/200\n",
      "38/38 [==============================] - 1s 22ms/step - loss: 0.5805 - val_loss: 0.5898\n",
      "Epoch 10/200\n",
      "38/38 [==============================] - 1s 23ms/step - loss: 0.5780 - val_loss: 0.5877\n",
      "Epoch 11/200\n",
      "38/38 [==============================] - 1s 22ms/step - loss: 0.5762 - val_loss: 0.5859\n",
      "Epoch 12/200\n",
      "38/38 [==============================] - 1s 22ms/step - loss: 0.5748 - val_loss: 0.5846\n",
      "Epoch 13/200\n",
      "38/38 [==============================] - 1s 22ms/step - loss: 0.5736 - val_loss: 0.5834\n",
      "Epoch 14/200\n",
      "38/38 [==============================] - 1s 22ms/step - loss: 0.5726 - val_loss: 0.5823\n",
      "Epoch 15/200\n",
      "38/38 [==============================] - 1s 23ms/step - loss: 0.5716 - val_loss: 0.5815\n",
      "Epoch 16/200\n",
      "38/38 [==============================] - 1s 24ms/step - loss: 0.5707 - val_loss: 0.5807\n",
      "Epoch 17/200\n",
      "38/38 [==============================] - 1s 23ms/step - loss: 0.5701 - val_loss: 0.5801\n",
      "Epoch 18/200\n",
      "38/38 [==============================] - 1s 24ms/step - loss: 0.5695 - val_loss: 0.5796\n",
      "Epoch 19/200\n",
      "38/38 [==============================] - 1s 23ms/step - loss: 0.5690 - val_loss: 0.5790\n",
      "Epoch 20/200\n",
      "38/38 [==============================] - 1s 26ms/step - loss: 0.5685 - val_loss: 0.5786\n",
      "Epoch 21/200\n",
      "38/38 [==============================] - 1s 24ms/step - loss: 0.5681 - val_loss: 0.5782\n",
      "Epoch 22/200\n",
      "38/38 [==============================] - 1s 24ms/step - loss: 0.5677 - val_loss: 0.5778\n",
      "Epoch 23/200\n",
      "38/38 [==============================] - 1s 22ms/step - loss: 0.5673 - val_loss: 0.5775\n",
      "Epoch 24/200\n",
      "38/38 [==============================] - 1s 22ms/step - loss: 0.5670 - val_loss: 0.5772\n",
      "Epoch 25/200\n",
      "38/38 [==============================] - 1s 22ms/step - loss: 0.5667 - val_loss: 0.5769\n",
      "Epoch 26/200\n",
      "38/38 [==============================] - 1s 21ms/step - loss: 0.5665 - val_loss: 0.5766\n",
      "Epoch 27/200\n",
      "38/38 [==============================] - 1s 22ms/step - loss: 0.5662 - val_loss: 0.5764\n",
      "Epoch 28/200\n",
      "38/38 [==============================] - 1s 22ms/step - loss: 0.5660 - val_loss: 0.5762\n",
      "Epoch 29/200\n",
      "38/38 [==============================] - 1s 22ms/step - loss: 0.5658 - val_loss: 0.5760\n",
      "Epoch 30/200\n",
      "38/38 [==============================] - 1s 21ms/step - loss: 0.5657 - val_loss: 0.5758\n",
      "Epoch 31/200\n",
      "38/38 [==============================] - 1s 22ms/step - loss: 0.5655 - val_loss: 0.5757\n",
      "Epoch 32/200\n",
      "38/38 [==============================] - 1s 22ms/step - loss: 0.5653 - val_loss: 0.5755\n",
      "Epoch 33/200\n",
      "38/38 [==============================] - 1s 22ms/step - loss: 0.5652 - val_loss: 0.5753\n",
      "Epoch 34/200\n",
      "38/38 [==============================] - 1s 22ms/step - loss: 0.5651 - val_loss: 0.5752\n",
      "Epoch 35/200\n",
      "38/38 [==============================] - 1s 21ms/step - loss: 0.5649 - val_loss: 0.5751\n",
      "Epoch 36/200\n",
      "38/38 [==============================] - 1s 24ms/step - loss: 0.5648 - val_loss: 0.5749\n",
      "Epoch 37/200\n",
      "38/38 [==============================] - 1s 25ms/step - loss: 0.5647 - val_loss: 0.5748\n",
      "Epoch 38/200\n",
      "38/38 [==============================] - 1s 21ms/step - loss: 0.5646 - val_loss: 0.5748\n",
      "Epoch 39/200\n",
      "38/38 [==============================] - 1s 22ms/step - loss: 0.5645 - val_loss: 0.5746\n",
      "Epoch 40/200\n",
      "38/38 [==============================] - 1s 23ms/step - loss: 0.5644 - val_loss: 0.5745\n",
      "Epoch 41/200\n",
      "38/38 [==============================] - 1s 21ms/step - loss: 0.5644 - val_loss: 0.5745\n",
      "Epoch 42/200\n",
      "38/38 [==============================] - 1s 21ms/step - loss: 0.5642 - val_loss: 0.5744\n",
      "Epoch 43/200\n",
      "38/38 [==============================] - 1s 21ms/step - loss: 0.5642 - val_loss: 0.5743\n",
      "Epoch 44/200\n",
      "38/38 [==============================] - 1s 21ms/step - loss: 0.5641 - val_loss: 0.5742\n",
      "Epoch 45/200\n",
      "38/38 [==============================] - 1s 21ms/step - loss: 0.5641 - val_loss: 0.5741\n",
      "Epoch 46/200\n",
      "38/38 [==============================] - 1s 21ms/step - loss: 0.5640 - val_loss: 0.5741\n",
      "Epoch 47/200\n",
      "38/38 [==============================] - 1s 22ms/step - loss: 0.5640 - val_loss: 0.5741\n",
      "Epoch 48/200\n",
      "38/38 [==============================] - 1s 21ms/step - loss: 0.5639 - val_loss: 0.5741\n",
      "Epoch 49/200\n",
      "38/38 [==============================] - 1s 22ms/step - loss: 0.5639 - val_loss: 0.5739\n",
      "Epoch 50/200\n",
      "38/38 [==============================] - 1s 23ms/step - loss: 0.5638 - val_loss: 0.5739\n",
      "Epoch 51/200\n",
      "38/38 [==============================] - 1s 25ms/step - loss: 0.5638 - val_loss: 0.5739\n",
      "Epoch 52/200\n",
      "38/38 [==============================] - 1s 25ms/step - loss: 0.5637 - val_loss: 0.5739\n",
      "Epoch 53/200\n",
      "38/38 [==============================] - 1s 24ms/step - loss: 0.5637 - val_loss: 0.5737\n",
      "Epoch 54/200\n",
      "38/38 [==============================] - 1s 22ms/step - loss: 0.5636 - val_loss: 0.5737\n",
      "Epoch 55/200\n",
      "38/38 [==============================] - 1s 26ms/step - loss: 0.5636 - val_loss: 0.5737\n",
      "Epoch 56/200\n",
      "38/38 [==============================] - 1s 22ms/step - loss: 0.5636 - val_loss: 0.5736\n",
      "Epoch 57/200\n",
      "38/38 [==============================] - 1s 22ms/step - loss: 0.5635 - val_loss: 0.5737\n",
      "Epoch 58/200\n",
      "38/38 [==============================] - 1s 22ms/step - loss: 0.5635 - val_loss: 0.5736\n",
      "Epoch 59/200\n",
      "38/38 [==============================] - 1s 21ms/step - loss: 0.5635 - val_loss: 0.5736\n",
      "Epoch 60/200\n",
      "38/38 [==============================] - 1s 20ms/step - loss: 0.5634 - val_loss: 0.5736\n",
      "Epoch 61/200\n",
      "38/38 [==============================] - 1s 21ms/step - loss: 0.5634 - val_loss: 0.5735\n",
      "Epoch 62/200\n",
      "38/38 [==============================] - 1s 21ms/step - loss: 0.5634 - val_loss: 0.5735\n",
      "Epoch 63/200\n",
      "38/38 [==============================] - 1s 21ms/step - loss: 0.5633 - val_loss: 0.5735\n",
      "Epoch 64/200\n",
      "38/38 [==============================] - 1s 21ms/step - loss: 0.5633 - val_loss: 0.5734\n",
      "Epoch 65/200\n",
      "38/38 [==============================] - 1s 21ms/step - loss: 0.5633 - val_loss: 0.5734\n",
      "Epoch 66/200\n",
      "38/38 [==============================] - 1s 21ms/step - loss: 0.5633 - val_loss: 0.5734\n",
      "Epoch 67/200\n",
      "38/38 [==============================] - 1s 21ms/step - loss: 0.5633 - val_loss: 0.5733\n",
      "Epoch 68/200\n",
      "38/38 [==============================] - 1s 20ms/step - loss: 0.5632 - val_loss: 0.5734\n",
      "Epoch 69/200\n",
      "38/38 [==============================] - 1s 21ms/step - loss: 0.5632 - val_loss: 0.5733\n",
      "Epoch 70/200\n",
      "38/38 [==============================] - 1s 21ms/step - loss: 0.5632 - val_loss: 0.5733\n",
      "Epoch 71/200\n",
      "38/38 [==============================] - 1s 22ms/step - loss: 0.5632 - val_loss: 0.5733\n",
      "Epoch 72/200\n",
      "38/38 [==============================] - 1s 22ms/step - loss: 0.5632 - val_loss: 0.5733\n",
      "Epoch 73/200\n",
      "38/38 [==============================] - 1s 21ms/step - loss: 0.5631 - val_loss: 0.5732\n",
      "Epoch 74/200\n",
      "38/38 [==============================] - 1s 21ms/step - loss: 0.5631 - val_loss: 0.5732\n",
      "Epoch 75/200\n",
      "38/38 [==============================] - 1s 21ms/step - loss: 0.5631 - val_loss: 0.5732\n",
      "Epoch 76/200\n",
      "38/38 [==============================] - 1s 21ms/step - loss: 0.5631 - val_loss: 0.5733\n",
      "Epoch 77/200\n",
      "38/38 [==============================] - 1s 21ms/step - loss: 0.5631 - val_loss: 0.5732\n",
      "Epoch 78/200\n",
      "38/38 [==============================] - 1s 21ms/step - loss: 0.5631 - val_loss: 0.5732\n",
      "Epoch 79/200\n",
      "38/38 [==============================] - 1s 21ms/step - loss: 0.5630 - val_loss: 0.5732\n"
     ]
    }
   ],
   "source": [
    "from keras.callbacks import EarlyStopping\n",
    "\n",
    "early_stopping = EarlyStopping(monitor='val_loss', patience=2, restore_best_weights=True)\n",
    "history = autoencoder.fit(X_train_resampled, X_train_resampled, epochs=200, batch_size=128, validation_data=(X_val, X_val),shuffle=True, callbacks=[early_stopping])"
   ]
  },
  {
   "cell_type": "markdown",
   "metadata": {},
   "source": [
    "# Plot"
   ]
  },
  {
   "cell_type": "code",
   "execution_count": 69,
   "metadata": {},
   "outputs": [
    {
     "name": "stdout",
     "output_type": "stream",
     "text": [
      "dict_keys(['loss', 'val_loss'])\n"
     ]
    },
    {
     "data": {
      "text/plain": [
       "<matplotlib.legend.Legend at 0x1ccbbae4640>"
      ]
     },
     "execution_count": 69,
     "metadata": {},
     "output_type": "execute_result"
    },
    {
     "data": {
      "image/png": "[encoded data removed]",
      "text/plain": [
       "<Figure size 640x480 with 1 Axes>"
      ]
     },
     "metadata": {},
     "output_type": "display_data"
    }
   ],
   "source": [
    "print(history.history.keys())\n",
    "\n",
    "plt.plot(history.history['loss'])\n",
    "plt.plot(history.history['val_loss'])\n",
    "plt.title('model loss')\n",
    "plt.ylabel('loss')\n",
    "plt.xlabel('epoch')\n",
    "plt.legend(['train', 'validation'], loc='upper right')"
   ]
  },
  {
   "cell_type": "markdown",
   "metadata": {},
   "source": [
    "# Classification with softmax"
   ]
  },
  {
   "cell_type": "code",
   "execution_count": 70,
   "metadata": {},
   "outputs": [],
   "source": [
    "encoder_model = Model(inputs=autoencoder.input, outputs=autoencoder.get_layer(index=2).output)"
   ]
  },
  {
   "cell_type": "code",
   "execution_count": 71,
   "metadata": {},
   "outputs": [
    {
     "name": "stdout",
     "output_type": "stream",
     "text": [
      "151/151 [==============================] - 1s 3ms/step\n",
      "42/42 [==============================] - 0s 3ms/step\n",
      "42/42 [==============================] - 0s 4ms/step\n"
     ]
    }
   ],
   "source": [
    "X_train_encoded = encoder_model.predict(X_train_resampled)\n",
    "X_val_encoded = encoder_model.predict(X_val)\n",
    "X_test_encoded = encoder_model.predict(X_test) "
   ]
  },
  {
   "cell_type": "code",
   "execution_count": 72,
   "metadata": {},
   "outputs": [
    {
     "name": "stdout",
     "output_type": "stream",
     "text": [
      "Epoch 1/200\n",
      "38/38 [==============================] - 0s 6ms/step - loss: 1.5235 - val_loss: 1.2581\n",
      "Epoch 2/200\n",
      "38/38 [==============================] - 0s 3ms/step - loss: 1.2349 - val_loss: 1.1966\n",
      "Epoch 3/200\n",
      "38/38 [==============================] - 0s 3ms/step - loss: 1.1574 - val_loss: 1.1410\n",
      "Epoch 4/200\n",
      "38/38 [==============================] - 0s 3ms/step - loss: 1.1038 - val_loss: 1.1023\n",
      "Epoch 5/200\n",
      "38/38 [==============================] - 0s 3ms/step - loss: 1.0658 - val_loss: 1.0645\n",
      "Epoch 6/200\n",
      "38/38 [==============================] - 0s 3ms/step - loss: 1.0411 - val_loss: 1.0619\n",
      "Epoch 7/200\n",
      "38/38 [==============================] - 0s 3ms/step - loss: 1.0207 - val_loss: 1.0517\n",
      "Epoch 8/200\n",
      "38/38 [==============================] - 0s 3ms/step - loss: 1.0064 - val_loss: 1.0336\n",
      "Epoch 9/200\n",
      "38/38 [==============================] - 0s 3ms/step - loss: 0.9963 - val_loss: 1.0274\n",
      "Epoch 10/200\n",
      "38/38 [==============================] - 0s 3ms/step - loss: 0.9857 - val_loss: 1.0043\n",
      "Epoch 11/200\n",
      "38/38 [==============================] - 0s 3ms/step - loss: 0.9796 - val_loss: 1.0023\n",
      "Epoch 12/200\n",
      "38/38 [==============================] - 0s 3ms/step - loss: 0.9735 - val_loss: 1.0060\n",
      "Epoch 13/200\n",
      "38/38 [==============================] - 0s 3ms/step - loss: 0.9679 - val_loss: 0.9991\n",
      "Epoch 14/200\n",
      "38/38 [==============================] - 0s 3ms/step - loss: 0.9647 - val_loss: 0.9872\n",
      "Epoch 15/200\n",
      "38/38 [==============================] - 0s 3ms/step - loss: 0.9615 - val_loss: 1.0211\n",
      "Epoch 16/200\n",
      "38/38 [==============================] - 0s 3ms/step - loss: 0.9585 - val_loss: 0.9953\n"
     ]
    },
    {
     "data": {
      "text/plain": [
       "<keras.callbacks.History at 0x1ccc17a7be0>"
      ]
     },
     "execution_count": 72,
     "metadata": {},
     "output_type": "execute_result"
    }
   ],
   "source": [
    "\n",
    "classifier = Sequential([\n",
    "    Dense(3, activation=\"softmax\") \n",
    "])\n",
    "\n",
    "classifier.compile(optimizer=Adam(learning_rate=1e-4), loss='sparse_categorical_crossentropy')\n",
    "early_stopping = EarlyStopping(monitor='val_loss', patience=2, restore_best_weights=True)\n",
    "classifier.fit(X_train_encoded, y_train_resampled, epochs=200, batch_size=128, validation_data=(X_val_encoded, y_val),shuffle=True, callbacks=[early_stopping])"
   ]
  },
  {
   "cell_type": "code",
   "execution_count": 73,
   "metadata": {},
   "outputs": [
    {
     "name": "stdout",
     "output_type": "stream",
     "text": [
      "dict_keys(['loss', 'val_loss'])\n"
     ]
    },
    {
     "data": {
      "text/plain": [
       "<matplotlib.legend.Legend at 0x1ccb99efbb0>"
      ]
     },
     "execution_count": 73,
     "metadata": {},
     "output_type": "execute_result"
    },
    {
     "data": {
      "image/png": "[encoded data removed]",
      "text/plain": [
       "<Figure size 640x480 with 1 Axes>"
      ]
     },
     "metadata": {},
     "output_type": "display_data"
    }
   ],
   "source": [
    "print(history.history.keys())\n",
    "\n",
    "plt.plot(history.history['loss'])\n",
    "plt.plot(history.history['val_loss'])\n",
    "plt.title('model loss')\n",
    "plt.ylabel('loss')\n",
    "plt.xlabel('epoch')\n",
    "plt.legend(['train', 'validation'], loc='upper right')"
   ]
  },
  {
   "cell_type": "code",
   "execution_count": 74,
   "metadata": {},
   "outputs": [
    {
     "name": "stdout",
     "output_type": "stream",
     "text": [
      "42/42 [==============================] - 0s 1ms/step\n",
      "              precision    recall  f1-score   support\n",
      "\n",
      "           0     0.3167    0.4565    0.3739       333\n",
      "           1     0.6350    0.6081    0.6213       615\n",
      "           2     0.6196    0.4202    0.5008       376\n",
      "\n",
      "    accuracy                         0.5166      1324\n",
      "   macro avg     0.5237    0.4949    0.4987      1324\n",
      "weighted avg     0.5506    0.5166    0.5248      1324\n",
      "\n"
     ]
    }
   ],
   "source": [
    "from sklearn.metrics import classification_report\n",
    "\n",
    "\n",
    "y_pred_prob = classifier.predict(X_test_encoded)\n",
    "\n",
    "#converting to class labels\n",
    "y_pred = y_pred_prob.argmax(axis=1)  #getting class with highest probability\n",
    "\n",
    "print(classification_report(y_test, y_pred, digits=4))"
   ]
  }
 ],
 "metadata": {
  "kernelspec": {
   "display_name": "Python 3 (ipykernel)",
   "language": "python",
   "name": "python3"
  },
  "language_info": {
   "codemirror_mode": {
    "name": "ipython",
    "version": 3
   },
   "file_extension": ".py",
   "mimetype": "text/x-python",
   "name": "python",
   "nbconvert_exporter": "python",
   "pygments_lexer": "ipython3",
   "version": "3.9.21"
  }
 },
 "nbformat": 4,
 "nbformat_minor": 4
}
